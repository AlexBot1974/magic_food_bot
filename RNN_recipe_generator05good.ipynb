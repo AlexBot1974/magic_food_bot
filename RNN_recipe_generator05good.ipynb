{
  "nbformat": 4,
  "nbformat_minor": 0,
  "metadata": {
    "kernelspec": {
      "display_name": "Python 3",
      "language": "python",
      "name": "python3"
    },
    "language_info": {
      "codemirror_mode": {
        "name": "ipython",
        "version": 3
      },
      "file_extension": ".py",
      "mimetype": "text/x-python",
      "name": "python",
      "nbconvert_exporter": "python",
      "pygments_lexer": "ipython3",
      "version": "3.7.1"
    },
    "latex_envs": {
      "LaTeX_envs_menu_present": true,
      "autoclose": false,
      "autocomplete": true,
      "bibliofile": "biblio.bib",
      "cite_by": "apalike",
      "current_citInitial": 1,
      "eqLabelWithNumbers": true,
      "eqNumInitial": 1,
      "hotkeys": {
        "equation": "Ctrl-E",
        "itemize": "Ctrl-I"
      },
      "labels_anchors": false,
      "latex_user_defs": false,
      "report_style_numbering": false,
      "user_envs_cfg": false
    },
    "toc": {
      "base_numbering": 1,
      "nav_menu": {},
      "number_sections": true,
      "sideBar": true,
      "skip_h1_title": false,
      "title_cell": "Table of Contents",
      "title_sidebar": "Contents",
      "toc_cell": false,
      "toc_position": {},
      "toc_section_display": true,
      "toc_window_display": false
    },
    "colab": {
      "name": "RNN_recipe_generator05good.ipynb",
      "provenance": [],
      "collapsed_sections": []
    }
  },
  "cells": [
    {
      "cell_type": "markdown",
      "metadata": {
        "id": "w-GuJU9woG9q"
      },
      "source": [
        "# Генерация рецептов с помощью RNN (рекурентной нейронной сети)\n"
      ]
    },
    {
      "cell_type": "code",
      "metadata": {
        "ExecuteTime": {
          "end_time": "2019-11-05T18:20:34.854793Z",
          "start_time": "2019-11-05T18:20:34.372865Z"
        },
        "id": "XMeVYO4KoG-q"
      },
      "source": [
        "import os\n",
        "import pickle  #for saving trained model\n",
        "import numpy as np\n",
        "import pandas as pd\n",
        "import matplotlib.pyplot as plt\n",
        "%matplotlib inline\n",
        "PATH_TO_DATA='../content/gdrive/My Drive/datasets/'"
      ],
      "execution_count": 1,
      "outputs": []
    },
    {
      "cell_type": "code",
      "metadata": {
        "colab": {
          "base_uri": "https://localhost:8080/"
        },
        "id": "gocN395pqO1W",
        "outputId": "01e58c6d-e99b-4016-bb80-ea45a91ef7b9"
      },
      "source": [
        "# подключаем гугл диск на котором данные\r\n",
        "from google.colab import drive\r\n",
        "drive.mount ('/content/gdrive', force_remount = True)"
      ],
      "execution_count": 2,
      "outputs": [
        {
          "output_type": "stream",
          "text": [
            "Mounted at /content/gdrive\n"
          ],
          "name": "stdout"
        }
      ]
    },
    {
      "cell_type": "code",
      "metadata": {
        "colab": {
          "base_uri": "https://localhost:8080/"
        },
        "id": "SEYhVFG9qjjH",
        "outputId": "a231316a-11a8-4f84-a155-1487f92f667f"
      },
      "source": [
        "!ls /content/gdrive/'My Drive'/datasets"
      ],
      "execution_count": 3,
      "outputs": [
        {
          "output_type": "stream",
          "text": [
            "author_quotes.txt\t\t   RAW_recipes.csv\n",
            "BIO_recipe_dataset.txt\t\t   r_n.txt\n",
            "ingredients01.csv\t\t   war_and_peace_bpe_train.txt\n",
            "ingredients05.csv\t\t   war_and_peace.txt\n",
            "ncep\t\t\t\t   wildfires_check.csv\n",
            "nyt-ingredients-head.csv\t   wildfires_train.csv\n",
            "nyt-ingredients-snapshot-2015.csv  wildfires_train.gsheet\n"
          ],
          "name": "stdout"
        }
      ]
    },
    {
      "cell_type": "code",
      "metadata": {
        "colab": {
          "base_uri": "https://localhost:8080/",
          "height": 340
        },
        "id": "7Nn-XGof0QdB",
        "outputId": "6e850d79-e5a4-4349-87a9-b2e9222a6015"
      },
      "source": [
        "data_df=pd.read_csv(PATH_TO_DATA+'ingredients01.csv',header=0)\r\n",
        "data_df.head(10)"
      ],
      "execution_count": 4,
      "outputs": [
        {
          "output_type": "execute_result",
          "data": {
            "text/html": [
              "<div>\n",
              "<style scoped>\n",
              "    .dataframe tbody tr th:only-of-type {\n",
              "        vertical-align: middle;\n",
              "    }\n",
              "\n",
              "    .dataframe tbody tr th {\n",
              "        vertical-align: top;\n",
              "    }\n",
              "\n",
              "    .dataframe thead th {\n",
              "        text-align: right;\n",
              "    }\n",
              "</style>\n",
              "<table border=\"1\" class=\"dataframe\">\n",
              "  <thead>\n",
              "    <tr style=\"text-align: right;\">\n",
              "      <th></th>\n",
              "      <th>['winter squash', 'mexican seasoning', 'mixed spice', 'honey', 'butter', 'olive oil', 'salt']</th>\n",
              "    </tr>\n",
              "  </thead>\n",
              "  <tbody>\n",
              "    <tr>\n",
              "      <th>0</th>\n",
              "      <td>['prepared pizza crust', 'sausage patty', 'egg...</td>\n",
              "    </tr>\n",
              "    <tr>\n",
              "      <th>1</th>\n",
              "      <td>['ground beef', 'yellow onions', 'diced tomato...</td>\n",
              "    </tr>\n",
              "    <tr>\n",
              "      <th>2</th>\n",
              "      <td>['spreadable cheese with garlic and herbs', 'n...</td>\n",
              "    </tr>\n",
              "    <tr>\n",
              "      <th>3</th>\n",
              "      <td>['tomato juice', 'apple cider vinegar', 'sugar...</td>\n",
              "    </tr>\n",
              "    <tr>\n",
              "      <th>4</th>\n",
              "      <td>['milk', 'vanilla ice cream', 'frozen apple ju...</td>\n",
              "    </tr>\n",
              "    <tr>\n",
              "      <th>5</th>\n",
              "      <td>['fennel seeds', 'green olives', 'ripe olives'...</td>\n",
              "    </tr>\n",
              "    <tr>\n",
              "      <th>6</th>\n",
              "      <td>['pork spareribs', 'soy sauce', 'fresh garlic'...</td>\n",
              "    </tr>\n",
              "    <tr>\n",
              "      <th>7</th>\n",
              "      <td>['chocolate sandwich style cookies', 'chocolat...</td>\n",
              "    </tr>\n",
              "    <tr>\n",
              "      <th>8</th>\n",
              "      <td>['sugar', 'unsalted butter', 'bananas', 'eggs'...</td>\n",
              "    </tr>\n",
              "    <tr>\n",
              "      <th>9</th>\n",
              "      <td>['whole berry cranberry sauce', 'sour cream', ...</td>\n",
              "    </tr>\n",
              "  </tbody>\n",
              "</table>\n",
              "</div>"
            ],
            "text/plain": [
              "  ['winter squash', 'mexican seasoning', 'mixed spice', 'honey', 'butter', 'olive oil', 'salt']\n",
              "0  ['prepared pizza crust', 'sausage patty', 'egg...                                           \n",
              "1  ['ground beef', 'yellow onions', 'diced tomato...                                           \n",
              "2  ['spreadable cheese with garlic and herbs', 'n...                                           \n",
              "3  ['tomato juice', 'apple cider vinegar', 'sugar...                                           \n",
              "4  ['milk', 'vanilla ice cream', 'frozen apple ju...                                           \n",
              "5  ['fennel seeds', 'green olives', 'ripe olives'...                                           \n",
              "6  ['pork spareribs', 'soy sauce', 'fresh garlic'...                                           \n",
              "7  ['chocolate sandwich style cookies', 'chocolat...                                           \n",
              "8  ['sugar', 'unsalted butter', 'bananas', 'eggs'...                                           \n",
              "9  ['whole berry cranberry sauce', 'sour cream', ...                                           "
            ]
          },
          "metadata": {
            "tags": []
          },
          "execution_count": 4
        }
      ]
    },
    {
      "cell_type": "code",
      "metadata": {
        "id": "5l9sc1kSCpP_"
      },
      "source": [
        "data_df.columns=['Ingredients']"
      ],
      "execution_count": 5,
      "outputs": []
    },
    {
      "cell_type": "code",
      "metadata": {
        "colab": {
          "base_uri": "https://localhost:8080/",
          "height": 194
        },
        "id": "xKKu5zefCwTV",
        "outputId": "1491f52f-7b07-48f7-c567-0b285595903d"
      },
      "source": [
        "data_df.head()"
      ],
      "execution_count": 6,
      "outputs": [
        {
          "output_type": "execute_result",
          "data": {
            "text/html": [
              "<div>\n",
              "<style scoped>\n",
              "    .dataframe tbody tr th:only-of-type {\n",
              "        vertical-align: middle;\n",
              "    }\n",
              "\n",
              "    .dataframe tbody tr th {\n",
              "        vertical-align: top;\n",
              "    }\n",
              "\n",
              "    .dataframe thead th {\n",
              "        text-align: right;\n",
              "    }\n",
              "</style>\n",
              "<table border=\"1\" class=\"dataframe\">\n",
              "  <thead>\n",
              "    <tr style=\"text-align: right;\">\n",
              "      <th></th>\n",
              "      <th>Ingredients</th>\n",
              "    </tr>\n",
              "  </thead>\n",
              "  <tbody>\n",
              "    <tr>\n",
              "      <th>0</th>\n",
              "      <td>['prepared pizza crust', 'sausage patty', 'egg...</td>\n",
              "    </tr>\n",
              "    <tr>\n",
              "      <th>1</th>\n",
              "      <td>['ground beef', 'yellow onions', 'diced tomato...</td>\n",
              "    </tr>\n",
              "    <tr>\n",
              "      <th>2</th>\n",
              "      <td>['spreadable cheese with garlic and herbs', 'n...</td>\n",
              "    </tr>\n",
              "    <tr>\n",
              "      <th>3</th>\n",
              "      <td>['tomato juice', 'apple cider vinegar', 'sugar...</td>\n",
              "    </tr>\n",
              "    <tr>\n",
              "      <th>4</th>\n",
              "      <td>['milk', 'vanilla ice cream', 'frozen apple ju...</td>\n",
              "    </tr>\n",
              "  </tbody>\n",
              "</table>\n",
              "</div>"
            ],
            "text/plain": [
              "                                         Ingredients\n",
              "0  ['prepared pizza crust', 'sausage patty', 'egg...\n",
              "1  ['ground beef', 'yellow onions', 'diced tomato...\n",
              "2  ['spreadable cheese with garlic and herbs', 'n...\n",
              "3  ['tomato juice', 'apple cider vinegar', 'sugar...\n",
              "4  ['milk', 'vanilla ice cream', 'frozen apple ju..."
            ]
          },
          "metadata": {
            "tags": []
          },
          "execution_count": 6
        }
      ]
    },
    {
      "cell_type": "code",
      "metadata": {
        "colab": {
          "base_uri": "https://localhost:8080/"
        },
        "id": "OrUjAUwcBVBr",
        "outputId": "ff708a05-f04d-4d31-fa65-4ebfa50209b9"
      },
      "source": [
        "data_df.shape"
      ],
      "execution_count": 7,
      "outputs": [
        {
          "output_type": "execute_result",
          "data": {
            "text/plain": [
              "(231636, 1)"
            ]
          },
          "metadata": {
            "tags": []
          },
          "execution_count": 7
        }
      ]
    },
    {
      "cell_type": "code",
      "metadata": {
        "id": "SAbS3Jj0-Lvp"
      },
      "source": [
        "names=data_df['Ingredients'][:2000]"
      ],
      "execution_count": 8,
      "outputs": []
    },
    {
      "cell_type": "code",
      "metadata": {
        "ExecuteTime": {
          "end_time": "2019-11-05T18:21:03.509714Z",
          "start_time": "2019-11-05T18:21:03.491489Z"
        },
        "id": "Tts-beeAoG-y"
      },
      "source": [
        "#with open(PATH_TO_DATA+'r_n.txt') as input_file:\n",
        "#    names = input_file.read()[:-1].split('\\n')\n",
        "#    names = [' ' + line for line in names]"
      ],
      "execution_count": null,
      "outputs": []
    },
    {
      "cell_type": "code",
      "metadata": {
        "ExecuteTime": {
          "end_time": "2019-11-05T18:21:03.946758Z",
          "start_time": "2019-11-05T18:21:03.938432Z"
        },
        "colab": {
          "base_uri": "https://localhost:8080/"
        },
        "id": "KShAnIYQoG-1",
        "outputId": "01aefb0f-0900-4b0f-8f71-5911fddae220"
      },
      "source": [
        "names[:5]"
      ],
      "execution_count": 9,
      "outputs": [
        {
          "output_type": "execute_result",
          "data": {
            "text/plain": [
              "0    ['prepared pizza crust', 'sausage patty', 'egg...\n",
              "1    ['ground beef', 'yellow onions', 'diced tomato...\n",
              "2    ['spreadable cheese with garlic and herbs', 'n...\n",
              "3    ['tomato juice', 'apple cider vinegar', 'sugar...\n",
              "4    ['milk', 'vanilla ice cream', 'frozen apple ju...\n",
              "Name: Ingredients, dtype: object"
            ]
          },
          "metadata": {
            "tags": []
          },
          "execution_count": 9
        }
      ]
    },
    {
      "cell_type": "markdown",
      "metadata": {
        "id": "VEsxWPZaoG-3"
      },
      "source": [
        "Посмотрим на распределение длин рецептов:"
      ]
    },
    {
      "cell_type": "code",
      "metadata": {
        "ExecuteTime": {
          "end_time": "2019-11-05T18:21:05.420060Z",
          "start_time": "2019-11-05T18:21:05.179513Z"
        },
        "colab": {
          "base_uri": "https://localhost:8080/",
          "height": 281
        },
        "id": "XY3C2j2_oG-5",
        "outputId": "2c333961-1e7c-45ee-f07a-49539a150a79"
      },
      "source": [
        "plt.title('Name length distribution')\n",
        "plt.hist(list(map(len, names)), bins=25);"
      ],
      "execution_count": 10,
      "outputs": [
        {
          "output_type": "display_data",
          "data": {
            "image/png": "[encoded data removed]",
            "text/plain": [
              "<Figure size 432x288 with 1 Axes>"
            ]
          },
          "metadata": {
            "tags": [],
            "needs_background": "light"
          }
        }
      ]
    },
    {
      "cell_type": "code",
      "metadata": {
        "id": "6t-IzIWzFXdB"
      },
      "source": [
        "tokens_set=set()  #for tokens\r\n",
        "good_data_list=[] #list for prepared data\r\n",
        "for n in names:\r\n",
        "  n=n[2:-2]\r\n",
        "  temp=['START']  #THIS IS TECHNIKAL ELEMENT FOR MODEL TO START WITH\r\n",
        "  temp.extend(list(map(str,n.split(\"', '\"))))\r\n",
        "  good_data_list.append(temp)\r\n",
        "\r\n",
        "\r\n",
        "  #print(set(temp))\r\n",
        "  tokens_set.update(set(temp))"
      ],
      "execution_count": 11,
      "outputs": []
    },
    {
      "cell_type": "code",
      "metadata": {
        "colab": {
          "base_uri": "https://localhost:8080/"
        },
        "id": "AKm8-8zt28dj",
        "outputId": "fa44c1b4-f83a-42d2-bb1d-b54b5aafc09e"
      },
      "source": [
        "good_data_list[:5]"
      ],
      "execution_count": 12,
      "outputs": [
        {
          "output_type": "execute_result",
          "data": {
            "text/plain": [
              "[['START',\n",
              "  'prepared pizza crust',\n",
              "  'sausage patty',\n",
              "  'eggs',\n",
              "  'milk',\n",
              "  'salt and pepper',\n",
              "  'cheese'],\n",
              " ['START',\n",
              "  'ground beef',\n",
              "  'yellow onions',\n",
              "  'diced tomatoes',\n",
              "  'tomato paste',\n",
              "  'tomato soup',\n",
              "  'rotel tomatoes',\n",
              "  'kidney beans',\n",
              "  'water',\n",
              "  'chili powder',\n",
              "  'ground cumin',\n",
              "  'salt',\n",
              "  'lettuce',\n",
              "  'cheddar cheese'],\n",
              " ['START',\n",
              "  'spreadable cheese with garlic and herbs',\n",
              "  'new potatoes',\n",
              "  'shallots',\n",
              "  'parsley',\n",
              "  'tarragon',\n",
              "  'olive oil',\n",
              "  'red wine vinegar',\n",
              "  'salt',\n",
              "  'pepper',\n",
              "  'red bell pepper',\n",
              "  'yellow bell pepper'],\n",
              " ['START',\n",
              "  'tomato juice',\n",
              "  'apple cider vinegar',\n",
              "  'sugar',\n",
              "  'salt',\n",
              "  'pepper',\n",
              "  'clove oil',\n",
              "  'cinnamon oil',\n",
              "  'dry mustard'],\n",
              " ['START',\n",
              "  'milk',\n",
              "  'vanilla ice cream',\n",
              "  'frozen apple juice concentrate',\n",
              "  'apple']]"
            ]
          },
          "metadata": {
            "tags": []
          },
          "execution_count": 12
        }
      ]
    },
    {
      "cell_type": "code",
      "metadata": {
        "colab": {
          "base_uri": "https://localhost:8080/"
        },
        "id": "__5Lo-1tGp5_",
        "outputId": "f208e081-606e-4dff-bf0d-78cd11105f1d"
      },
      "source": [
        "print(len(tokens_set),tokens_set)  #lets see the len of vocabulary and examples"
      ],
      "execution_count": 13,
      "outputs": [
        {
          "output_type": "stream",
          "text": [
            "2726 {'four-cheese mexican blend cheese', 'grenadine', 'hormel chili without beans', 'honey mustard', 'chocolate fudge frosting', 'rolls', 'corn chips', 'soya sauce', 'capers', 'miniature marshmallow', 'barley', 'cream', 'sandwich buns', 'bacon bits', 'lime-flavored vodka', 'dark cooking chocolate', 'meatloaf seasoning mix', 'malt vinegar', 'imitation crabmeat', 'fresh cream', '7-up soda', 'peppercorn', 'dried beef', 'cottage cheese with chives', 'jello gelatin', 'pitted ripe olives', 'dark chili powder', 'pork sirloin roast', 'brewed coffee', 'whipped topping', 'salsa', 'pak choi', 'red cinnamon candies', 'refried black beans', 'jumbo shrimp', 'chicken breast tenders', 'raspberry kool-aid', 'lemon, rind of', 'instant white chocolate pudding and pie filling mix', 'french roll', 'small shell pasta', 'prepared sweet-and-sour mix', 'self rising flour', 'fennel seeds', 'rhubarb', 'roasted red peppers', 'sunflower seeds', 'chocolate-covered peanuts', 'ground almonds', 'orange-flavored dark chocolate', 'coffee liqueur', 'simply potatoes shredded hash browns', 'chipotle chiles in adobo', 'condensed mushroom soup', 'italian sausage', 'fat-free parmesan cheese', '80% lean ground beef', 'cinnamon sticks', 'ground cumin', 'cheese sauce', 'mascarpone cheese', 'fat free chicken broth', 'wide egg noodles', 'boneless leg of lamb', 'poblano chile', 'seasoned dry bread crumb', 'fresh parmesan cheese', 'fresh thyme sprig', 'ham hock', 'gravy master', 'glace cherries', 'pecorino cheese', 'vegan margarine', 'beef base', 'milk\\', \"devil\\'s food cake mix\", \\'vegetable oil', 'whole wheat pasta', 'skinless chicken breast half', 'feta cheese', 'frangelico', 'boneless beef cube', 'fresh coarse ground black pepper', 'ramen noodles', 'mountain dew soda', 'banana peppers', 'cold water', 'corn cobs', 'wheat flour', 'cherry jam', 'blueberries', 'chicken-flavored ramen noodles', 'whole kernel corn', 'green bell pepper', 'egg whites', 'reduced-sodium fat-free chicken broth', 'spinach leaves', 'navy beans', 'habanero pepper', 'lipton beefy mushroom soup mix', 'pillsbury sugar cookie dough', 'butter\\', \"confectioners\\' sugar\", \\'chocolate', 'pork tenderloin', 'red kidney beans', 'turbinado sugar', 'egg yolks', 'fresh ground pepper', 'broccoli florets', 'cherry powdered drink mix', 'nam som paep', 'cranberries', 'clove oil', 'vegan chicken', 'boneless skinless chicken', 'taco sauce', 'grapes', 'cognac', 'black olives', 'boneless skinless chicken breast', 'fresh pineapple', 'taco chips', 'shortening', 'refrigerated biscuits', 'msg', 'pappardelle pasta', 'dark chocolate', 'lemon flavoring', 'good seasonings italian salad dressing mix', 'limeade', 'peanut butter', 'reduced-fat cream of chicken soup', 'baby spinach leaves', 'ground flax seeds', 'pickled red onions', 'shirataki noodles', 'sliced water chestnuts', 'vegetable stock', 'barbecue sauce', 'cherry pie filling', 'fresh onion', 'red onions', 'raw carrots', 'spanish onion', 'ale', 'bottled garlic', 'prepared custard', 'white rice', 'canned jalapeno slices', 'extra-sharp cheddar cheese', 'sugar', 'toasted sesame seeds', 'rice noodles', 'whiskey', 'hard-cooked eggs', 'whole black peppercorn', 'vermicelli', 'kalamata olives', 'fruit preserves', 'fuji apples', 'lillet blanc', 'smoked salmon', 'hot red chili peppers', 'lemon extract', 'liquid honey', 'italian-style tomato sauce', 'ziti pasta', 'pepsi', 'dried porcini mushrooms', 'ovaltine', 'bran buds', 'stewing pork', 'yogurt', 'toasted sesame oil', 'unsweetened chocolate squares\\', \"confectioners\\' sugar\", \\'evaporated milk', 'unsweetened baking cocoa', 'lemon peel', 'apple pie spice', 'licor 43', 'spaghetti sauce', 'blood oranges', 'hot pork sausage', 'assorted fresh vegetables', 'maraschino cherry', 'puff pastry sheets', 'veggie crumbles', 'honey roasted peanuts', 'fat-free half-and-half', 'capsicum', 'dried apricots', 'oxtails', 'dried beans', 'unsalted butter\\', \"confectioners\\' sugar\", \\'salt', 'semisweet chocolate morsel', 'basil leaves', 'pork roast', 'tabasco sauce', 'salt & pepper', 'ice cubes', 'hearts of palm', 'corn tortilla chips', 'baking mix', 'pita bread', 'crepes', 'chat masala', 'extra virgin olive oil', 'smart balance omega plus', 'spring onion', 'sweet onions', 'bay leaf', 'provolone cheese', 'white hominy', 'ham fat', 'fresh blueberries', 'parsnip', 'cooked long-grain rice', 'miracle whip', 'cocktail franks', 'coriander powder', 'monterey jack cheese', 'green tomato', 'gouda cheese', 'vanilla wafer cookies', 'green giant sliced mushrooms', 'seasoning salt', 'kaiser rolls', 'sweetcorn', 'ranch dressing mix', 'mini marshmallows', 'dried cherries', 'mixed herbs', 'apricot jam', 'soft cream cheese', 'ground nutmeg', 'mustard greens', 'hot pepper flakes', 'boneless pork loin', 'mrs. dash garlic and herb seasoning', 'dutch-processed cocoa powder', 'velveeta cheese slices', 'roma tomatoes', 'fresh strawberries', 'hot taco sauce', 'hot red pepper sauce', 'unsweetened cocoa', 'aluminum foil', 'top round roast', 'tzatziki', 'prepared pizza crust', 'fiber one cereal', 'pepperoncini peppers', 'bicarbonate of soda', 'chicken breasts', 'chuck roast', 'crushed plum tomatoes', 'olive oil flavored cooking spray', 'mixed italian herbs', 'fresh peas', 'bittersweet dark chocolate', 'granulated yeast', 'chili-garlic sauce', 'baguette', 'extra-large eggs', 'yellow squash', 'olive salad', 'iceberg lettuce', 'cornbread', 'cooked ham', 'marjoram', 'quick-cooking oats', 'sushi rice', 'stewed tomatoes', 'soybeans', 'mexican cheese', 'mushroom pieces', 'hot chili peppers', 'wax bean', 'tomato sauce & mushrooms', 'fine semolina', 'sea salt & fresh black pepper', 'eggplant', 'sweet cream', 'pretzel', 'fresh lemon juice', 'pizza crusts', 'instant pudding mix', 'red beans', 'cream cheese\\', \"confectioners\\' sugar\", \\'whipped topping', 'heavy cream', 'orange-pineapple flavored gelatin', 'skirt steak', 'chocolate mousse mix', 'ice cream sandwiches', 'black mustard seeds', 'basil pesto', 'ham steaks', 'banana', 'peach puree', 'macaroni noodles', 'habanero sauce', 'miniature marshmallows', 'broiler', 'alfalfa sprout', 'five-spice powder', 'italian stewed tomatoes', 'boneless eye of round beef steak', 'mahleb', 'boneless pork chop', 'country gravy mix', 'black rice', 'snap peas', 'cool whip free', 'light coconut milk', 'prepared mustard', 'vanilla essence', 'cilantro', 'sugar pumpkin', 'basil', 'beef bouillon cubes', 'herb salad dressing', 'corn niblets', 'strawberry cake mix', 'white creme de menthe', 'gluten free baking powder', 'low-fat cheddar cheese', 'parmigiano-reggiano cheese', 'mccormick\\'s montreal brand steak seasoning\", \\'dill weed', 'beans', 'refrigerated pie crust', 'small potatoes', 'semisweet chocolate pieces', 'liquid', 'fresh dill sprig', 'shortbread cookies', 'pork loin roast', 'hot fudge', 'green peppers', 'roasted peppers', 'nuts\\', \"m&m\\'\", \"reese\\'s pieces\", \\'miniature marshmallow', 'white chocolate chips', 'white button mushrooms', 'walnut pieces', 'shrimp boil seasoning', 'bread flour', 'szechuan sauce', 'semisweet mini chocolate chips', 'strawberry', 'cabbage', 'french-fried onions', 'dried fruits', 'baby red potatoes', 'unsweetened cocoa powder', 'emmenthaler cheese', 'chili starter', 'prepared topping', 'margarine', 'new potatoes', 'light soy sauce', 'whipped dessert topping mix', 'jiffy corn muffin mix', 'firm tofu', 'brine', 'lemon', 'pea shoots', 'banana schnapps', 'dry yeast', 'pork', 'toasted wheat germ', 'rotel tomatoes & chilies', 'cola', 'broccoli rabe', 'fish fillets', 'natural-style peanut butter', 'cracker crumb', 'boneless beef cubes', 'green grape', 'light cream cheese', 'heirloom tomatoes', 'processed swiss cheese', 'french baguette', 'white bread', 'longhorn cheese', 'frozen broccoli spears', 'fried chinese noodles', 'frozen whole kernel corn', 'fresh parsley sprigs', 'black cherry jell-o', 'pineapple instant pudding', 'fruit cocktail in heavy syrup', 'poppy seeds', 'smoked gouda cheese', 'dark unsweetened cocoa', 'breadsticks', 'oil', 'almond extract', 'fruit vinegar', 'pitted black olives', 'coleslaw mix', 'butter\\', \"confectioners\\' sugar', 'sour apple liqueur', 'citric acid', 'vegetable broth\\', \"o\\'brien frozen potatoes\", \\'cream-style corn', 'bittersweet chocolate', 'unsalted sunflower seeds', 'cornish hens', 'pancake mix', 'crushed pineapple', 'fruit spread', 'rice flour', 'collard greens', 'cinnamon raisin bread', 'ground cloves', 'muesli', 'wheat germ', 'whole wheat tortillas', 'banana rum', 'cracker crumbs', 'berry gelatin', 'dried thyme', 'vanilla chip', 'white potatoes', 'french haricots vert', 'mexican-style tomatoes', 'extra large eggs', 'pineapple chunks', 'vodka', 'sugar-free cranberry juice', 'frozen sliced peaches', 'coconut extract', 'cooked barley', 'soft brown sugar', 'butter beans', 'mexican chocolate', 'cinnamon extract', 'hot red pepper flakes', 'plain flour', 'green peas', 'orange roughy', 'dark soy sauce', 'chicken carcasses', 'ground black pepper', 'apples', 'chocolate ice cream', 'slivered almonds', 'panko breadcrumbs', 'apricots', 'fruit pectin', 'marshmallows', 'hazelnuts', 'vinegar', 'bread machine yeast', 'sauerkraut', 'thyme', 'hormel chili', 'buttermilk', 'smoked paprika', 'dark rum', 'almond flavoring', 'spaghetti', 'refrigerated buttermilk biscuits', 'carrots', 'orange rind', 'unflavored gelatin', 'flax seed oil', 'boneless chicken breasts', 'prepared graham cracker crust', 'ranch style beans', 'seafood cocktail sauce', 'egg noodles', 'chocolate chips\\', \"hershey\\'s semi-sweet baking chocolate\", \\'nuts', 'parsley sprigs', 'ranch dressing', 'cream of celery soup', 'peppermint patties', 'buttermilk ranch salad dressing mix', 'egg white', 'white cake mix', 'potato sticks', 'green pepper', 'smoked ham', 'sweet tart crust', 'pork baby back ribs', 'dark molasses', 'dried sweetened cranberries', 'white wine worcestershire sauce', 'everclear alcohol', 'lipton onion soup mix', 'unbleached all-purpose flour', 'confectioners\\' sugar\", \\'peanut butter', 'poultry seasoning', 'macaroni & cheese dinner mix', 'curry powder', 'fresh sage', 'candy cane', 'ground sage', 'sugar-free lime gelatin', 'allspice', 'unbleached flour', 'cinnamon rolls', 'ritz crackers', 'fresh bay leaves', 'zucchini with italian-style tomato sauce', 'mole', 'chocolate syrup', 'textured vegetable protein', 'whole canned tomatoes', 'kidney bean', 'green bell peppers', 'chocolate chips', 'sweet butter', 'budweiser beer', 'vegetable oil', 'smoked sausage\\', \"campbell\\'s cream of chicken soup\", \\'raw potatoes', 'boneless lamb shoulder', 'chicken legs-thighs', 'no-sugar-added peanut butter', 'angel flake coconut', 'pecans\\', \"confectioners\\' sugar\", \\'soft cream cheese', 'canned pinto beans', 'louisiana hot sauce', 'instant apple cider drink mix', 'heavy whipping cream', 'fresh jalapeno peppers', 'sun-dried tomato', 'frozen unsweetened strawberries', 'guacamole seasoning mix', 'black cumin', 'dill seed', 'miniature peppermint patties', 'simply potatoes traditional mashed potatoes', 'reduced-fat mayonnaise', 'ground cinnamon', 'fat-free blueberry yogurt', 'fresh mushrooms', 'sourdough bread', 'chocolate candy bars', 'adobo seasoning', 'espresso', 'whole tomatoes', 'snow pea sprouts', 'brut champagne', 'quark', 'ricotta cheese', 'dried apples', 'sun-dried tomato packed in oil', 'unbaked pie shells', 'deli roast beef', 'lean ground sirloin', 'raw cashews', 'kalamata olive', 'mozzarella string cheese', 'pickled ginger', 'salmon steaks', 'butterscotch chips\\', \"hershey\\'s semi-sweet chocolate chips\", \\'white chocolate chips', 'semisweet chocolate chunks', 'roasted peanuts', 'amaretto', 'cheesecloth', 'salt free herb and spice seasoning mix', 'low-fat cheese', 'anchovy fillets', 'miniature semisweet chocolate chips', 'maraschino cherry juice', 'mint leaf', 'table salt', 'dried mint', 'brandy', 'tempeh', 'parsley sprig', 'kosher salt & freshly ground black pepper', 'devil\\'s food cake mix\", \\'instant chocolate pudding mix', 'yellow mustard seeds', 'beets', 'beef stock', 'oyster mushroom', 'pizza sauce', 'roasted garlic alfredo sauce', 'calvados', 'crabmeat', 'chili flakes', 'roast beef in gravy', 'cooked rice', 'portabella mushroom', 'fast rising yeast', 'peanuts', 'spinach', 'pam cooking spray', 'baking cocoa', 'monterey jack pepper cheese', 'non-fat cooking spray', 'horseradish mustard', 'fettuccine pasta', 'carnation evaporated milk', 'reduced-fat ham', 'hard-cooked egg', 'low-sodium cream of mushroom soup', 'coarse grain mustard', 'fresh herbs', 'muenster cheese', 'cranberry juice cocktail', 'toffee pieces', 'bow tie pasta', 'green enchilada sauce', 'red sweet bell pepper', 'raspberry jell-o gelatin', 'low-fat small-curd cottage cheese', 'bouillon', 'country-style dijon mustard', 'fennel', 'dark brown sugar', 'rotini pasta', 'fresh flat-leaf parsley', 'pork hock', 'mixed candied fruit', 'pasta sauce', 'biscuits', 'spareribs', 'light sour cream', 'deli turkey', 'haeo', 'diced tomatoes', 'nectarines', 'bell peppers', 'pork side ribs', 'rolled oats', 'pumpkin seeds', 'sriracha sauce', 'mirin', 'apricot-pineapple preserves', 'red raspberry preserves', 'great northern beans', 'crisp rice cereal', 'chili with chicken and beans', 'cooked shrimp', 'gingersnap cookie', 'fat-free key lime yogurt', 'masa harina flour', 'lowfat swiss cheese', 'sweet peas', 'fresh garlic cloves', 'fresh carrots', 'yellow sweet pepper', 'lime wedges', 'duncan hines butter cake mix', 'shallots', 'cinnamon sugar', 'ground beef', 'milk chocolate candy bars', 'tri-color spiral pasta', 'fresh curly-leaf parsley', 'london broil beef', 'vegetarian ground beef', 'canned green beans', 'dried dill weed', 'birds eye chiles', 'orange slice', 'miniature chocolate chips', 'sandwich bun', 'southwest seasoning', 'fat-free low-sodium chicken broth', 'popped corn', 'orange-infused vodka', 'beet leaves', 'peach schnapps', 'vanilla yogurt', 'cooking apples', 'thick & chunky salsa', 'mushroom', 'poppy seed', 'chicken wings', 'hormel dried beef', 'diet soda', 'instant minced garlic', 'chicken and rice soup', 'gluten', 'coffee-mate cinnamon vanilla liquid creamer', 'mascarpone', 'ground cardamom', 'vegan sugar', 'fresh sweet basil leaves', 'basmati rice', 'coconut rum', 'boston butt', 'tia maria', 'unsweetened chocolate square', 'dried onion', 'dried parsley', 'yakisoba noodles', 'molasses', 'boneless chicken', 'blueberry pie filling', 'chocolate pudding mix', 'lemons', 'toothpick', 'heinz chili sauce', 'boneless pork loin chops', 'genoa salami', 'beef consomme', 'jamaican jerk spice', 'frozen tater tots', 'garlic salt', 'curry', 'white wine vinegar', 'agave nectar', 'seedless raisins', 'fresh herb', 'pretzels', 'cholesterol-free egg substitute', 'ice cream', 'boneless beef chuck roast', 'red licorice', 'black tea bags', 'eggplants', 'soy crumbles', 'cardamom seed', 'apple juice', 'red chili powder', 'boiling water', 'pickling cucumbers', 'cheese-filled tortellini', 'chinese noodles', 'salted butter', 'ginger beer', 'lime wedge', 'brussels sprouts', 'sour cream', 'granulated sugar', 'button mushroom', 'thyme leaves', 'cardamom', 'bay leaves', 'mild cheddar cheese', 'fat-free italian salad dressing', 'sweet pickle relish', 'corn tortilla', 'no-salt-added ketchup', 'dulce de leche', 'sazon goya', 'unsalted dry roasted peanuts', 'sambal oelek chili paste', 'cotija cheese', 'avocados', 'wood bethony', 'fennel seed', 'fresh mint leaves', 'coconut', 'smoked turkey sausage', 'ditalini', 'italian bread', 'seafood', 'lean ground chuck', 'green onions', 'dried apricot', 'caesar salad dressing', 'jalapeno pepper', 'chicken drummettes', 'evaporated skim milk', 'lemons, juice and zest of', 'mint sprigs', 'fresh green beans', 'nonfat sour cream', 'mexican rice', 'compressed yeast', 'philadelphia cream cheese\\', \"baker\\'s semi-sweet baking chocolate', 'ground allspice', 'orange juice', 'diced tomatoes with juice', 'grain cereal', 'maida flour', 'hickory flavored barbecue sauce', 'cooking oil', 'carrot', 'blackening seasoning', 'small red potato', 'frozen meatballs', 'prepared yellow mustard', 'lima beans', 'english muffin', 'fat', 'yellow mustard', 'fresh lemon rind', 'chicken rice soup', 'vegetarian worcestershire sauce', 'fig preserves', 'ground sausage', 'rump roast', 'cookies', 'green apple', 'ranch salad dressing', 'lemon zest', 'chicken quarters', 'beef steaks', 'chicken stock', 'italian breadcrumbs', 'minced clams', 'sweet red peppers', 'pigeon peas', 'peppermint extract', 'eggnog', 'cookie', 'spinach tortellini', 'vanilla vodka', 'great northern bean', 'gold tequila', 'saltine crackers', 'coarse sugar', 'cayenne pepper sauce', 'canning salt', 'andouille sausages', 'smoked chicken', 'round sourdough loaf', 'jam', 'artichoke', 'creamy peanut butter', 'saffron thread', 'hot dogs', 'sugar-free non-fat vanilla yogurt', 'bulgar wheat', 'frozen yogurt', 'ground turkey', 'orange rind\\', \"confectioners\\' sugar', 'spicy refried beans', 'olive', 'corn flake crumbs', 'canned chicken breast meat', 'frozen creamed spinach', 'chocolate graham wafer pie crust', 'ground nuts', 'hamburger', 'coconut cream', 'green cherries', 'low-fat catalina dressing', 'reduced-sodium beef broth', 'light molasses', 'light mayonnaise', 'fat free sugar-free instant cheesecake pudding mix', 'plum tomatoes', 'cool whip lite', 'four cheese pasta sauce', 'lime, juice of', 'cracked pepper', 'rutabagas', 'lime zest', 'baked beans', 'wine', 'instant potato flakes', 'deli ham', 'salt and pepper', 'fresh coriander leaves', 'lite olive oil', 'salted peanuts', 'brie cheese', 'squid', 'rum extract', 'baking chocolate', 'hot sauce', 'cardamom pods', 'bottled chili sauce', 'beef brisket', 'cherry tomatoes', 'unsweetened applesauce', 'ripe olives', 'sage', 'roasted red pepper', 'minute rice', 'lime, juice and zest of', 'leek', 'raspberry jam', 'salt & fresh ground pepper', 'cranberry juice', 'chicken wing sauce', 'brown rice', 'hungarian paprika', 'french onion soup', 'fresh fruit', 'frozen white corn', 'espresso\\', \"confectioners\\' sugar', 'raw sugar', 'stone ground whole wheat flour', 'sirloin steak', 'tarragon leaf', 'mayonnaise', 'ground sirloin', 'limes, juice and zest of', 'water chestnuts\\', \"hellmann\\'s mayonnaise\", \\'hawaiian bread', 'boneless pork shoulder', 'marinated artichoke hearts', 'watermelon', 'lemon juice\\', \"confectioners\\' sugar\", \\'salt', 'lemon twist', 'dry sherry', 'tomato soup', 'chive blossoms', 'aioli', 'dried herbs', 'graham wafers', 'minestrone soup', 'roasted sweet red peppers', 'pasta', 'havarti with dill', 'instant mashed potatoes', 'custard', 'low sodium chicken broth', 'condensed milk', 'cellophane noodle', 'cream of mushroom soup', 'light cheese whiz', 'sure-jell', 'medium-grain white rice', 'boboli pizza crusts', 'ham', 'red apples', 'sea salt', 'caster sugar', 'hunts tomato sauce', 'self-raising flour', 'lemon, zest of', 'blended oatmeal', 'quick oatmeal', 'lamb chops', 'sun-dried tomatoes', 'ham bone', 'dark red kidney beans', 'marshmallow cream', 'fat-free turkey chili', 'vegetable bouillon granules', 'meat', 'green food coloring', 'five cheese blend', 'roma tomato', 'soy sauce', 'fresh thyme leave', 'half-and-half cream', 'sliced almonds', 'spaghetti sauce mix', 'pace picante sauce', 'courgettes', 'linseeds', 'nutritional yeast flakes', 'beef tenderloin', 'v8 vegetable juice', 'cream of spinach soup mix', 'shrimp', 'white pearl onions', 'peppermint candies', 'ground oregano', 'vanilla extract', 'sliced mushrooms', 'corn tortilla strips', 'pernod', 'dried parsley flakes', 'head iceberg lettuce', 'nesquik no-sugar-added chocolate powder', 'frozen strawberries', 'fresh garlic', 'frozen juice concentrate', 'beef chuck', 'apple cider vinegar', 'jalapenos', 'bel paese cheese', 'sun-dried tomatoes packed in oil', 'oreo cookie crumbs', 'red beets', 'butter-flavored cooking spray', '1% low-fat milk', 'dark corn syrup', 'rubbed sage', 'ground fenugreek', 'chips', 'picante sauce', 'thangkwa', 'miniature chocolate chip', 'yoghurt', 'low-fat swiss cheese', 'ragu tomato sauce', 'cooked elbow macaroni', 'roasting bag', 'fresh basil leaf', 'strawberry jam', 'powdered eggs', 'rosemary sprig', 'cannellini beans', 'START', 'whole wheat bread dough', 'simply potatoes diced potatoes with onion', 'instant espresso powder', 'boneless skinless chicken breast half', 'pie crusts', 'peaches in heavy syrup', 'heads of garlic', 'achiote', 'vanilla wafer crumbs', 'round steaks', 'apple cider', 'raspberry sherbet', 'baby spinach', 'cooked white rice', 'white wine', 'low sodium beef broth', 'bisquick', 'vanilla-flavored soymilk', 'havarti cheese', 'mccormick black pepper', 'maple extract', 'rosemary', 'chambord raspberry liquor', 'original ranch dressing mix', 'chocolate sandwich style cookies', 'corned beef', 'vanilla', 'onion flakes', 'kielbasa', 'lemon-flavored vodka', 'cheese', 'oscar mayer real bacon bits', 'coconut oil', 'mango rum', 'prepared horseradish', 'white beans', 'roasted cashews', 'bacon', 'yellow cornmeal', 'peppadew peppers', 'vanilla ice cream', 'ground moose', 'blackberry', 'safflower oil', 'duncan hines moist deluxe spice cake mix', 'broth', 'pumpkin', 'kraft 100% parmesan cheese', 'elbow macaroni', 'coconut milk', 'splenda brown sugar blend', 'active dry yeast', 'mixed mushrooms', 'mexican-style corn', 'sour apple schnapps', 'sesame seeds', 'chicken gravy mix', 'queso fresco', 'salami', 'raisins', 'lean chuck', 'gingerroot', 'chicken pieces', 'halibut fillets', 'round rice paper sheets', 'white potato', 'mixed sprouts', 'spearmint', 'anaheim chilies', 'head cauliflower', 'salad seasoning', 'jello instant vanilla pudding mix', 'soft breadcrumbs', 'low-fat italian salad dressing', 'spring onions', 'chicken drumsticks', 'cooked beef', 'low-fat mayonnaise', 'buttery cracker', 'pickle juice', 'orange, juice of', 'pearl barley', 'tarragon', 'pico de gallo', 'instant lemon pudding', 'smart balance butter spread', 'whole wheat flour', 'reduced-fat cream cheese', 'dry white wine', 'oreo cookies', 'frisee', 'all-bran cereal', 'white chicken meat', 'barbecue seasoning', 'dried rosemary', 'stout beer', 'hot chili oil', 'vanilla protein powder', 'red food coloring', 'frozen peas and carrot', 'cooked spaghetti', 'hershey bar', 'serrano chili', 'smooth peanut butter', 'roasted garlic and red pepper spice mix', 'hom daeng', 'cherries', 'diced tomatoes with chiles and cilantro', 'garlic and herb marinade', 'whole chicken breasts', 'bread cubes', 'smoked turkey breast', 'dried sage', 'light olive oil', 'orgeat syrup', 'margarine\\', \"confectioners\\' sugar\", \\'flour', 'cocoa', 'vidalia onions', 'saffron', 'bolognese sauce', 'corn tortillas', 'marmalade', 'pickle', 'stew meat', 'halibut steaks', 'lebanese cucumbers', 'salt', 'condensed french onion soup', 'ground pork', 'instant oats', 'hamburger bun', 'cashews', 'beef gravy', 'hot salsa', '98% fat-free cream of chicken soup', 'hershey chocolate kiss\\', \"m&m\\'s plain chocolate candy', 'ice', 'mustard', 'berries', 'nutritional yeast', 'skim milk', 'rotel', 'ginger juice', 'red grapefruit', 'pickling salt', 'ground coriander', 'flour tortilla', 'philadelphia cream cheese', 'double cream', 'red sweet peppers', 'fire-roasted tomatoes', 'linguine', 'fresh mozzarella cheese', 'canned mushrooms', 'tortilla chips', 'summer squash', 'lasagna noodle', 'chili beans with chipotle pepper', 'sweet potatoes', 'egg', 'hot coffee', 'whole chickens', 'smoked bacon', 'pineapple chunk', 'thai chiles', 'chocolate squares', 'brown sugar cinnamon syrup', 'low-fat monterey jack pepper cheese', 'rye flour', 'dried onion flakes', 'water', 'fresh cilantro leaves', 'peaches', 'mushrooms', 'smooth cashew butter', 'sweet hungarian paprika', 'vegetarian refried beans', 'coconut flavoring', 'cooked bacon', 'cream of potato soup', 'refrigerated reduced-fat buttermilk biscuits', 'eggs', 'peppercorn blend', 'light whipped topping', 'canned corn', 'hp steak sauce', 'vanilla pudding mix', 'kaffir lime leaves', 'red bell peppers', 'boneless chicken breast halves', 'lime sorbet', 'cooking onions', 'fat-free mayonnaise', 'canned milk', 'almonds', 'black-eyed peas', 'garlic powder', 'sweet unsalted butter', 'flank steak', 'prunes', 'white minute rice', 'egg bread', 'candied ginger', 'cooked pasta', 'noodles', 'liquid smoke', 'pork-flavored ramen noodles', 'whipped cream', 'frozen corn kernels', 'asian pear', 'crushed pineapple in juice', 'imitation vanilla', 'green tomatillo sauce', 'fat free cream cheese', 'beef consomme soup', 'sake', 'blue cheese', 'strawberry vodka', 'nonfat cottage cheese', 'canned crushed pineapple', 'unsalted butter\\', \"confectioners\\' sugar\", \\'fresh lime juice', 'frozen cheese ravioli', 'raspberry vinaigrette dressing', 'taco seasoning', 'potato', 'french bread', 'triple sec', 'beef stew', 'tofu shirataki noodles', 'fresh tarragon', 'colby cheese', 'tortilla', 'guacamole', 'yellow bell pepper', 'boneless skinless chicken breast halves', 'equal sugar substitute', 'reduced fat margarine', 'sunflower oil', 'kiwi', 'strawberries', 'diced green chilis', 'vegetable seasoning', 'orange bell peppers', 'natural bran', 'dry vermouth', 'frozen unsweetened mixed berries', 'baby carrots', 'raw rice', 'part-skim mozzarella cheese', 'mixed greens', '98% fat-free cream of mushroom soup', 'processed cheese', 'dried dill', 'coconut butter', 'frozen peas', 'cheez whiz', 'of fresh mint', 'wooden stick', 'vital wheat gluten', 'pie shells', 'hot dog buns', 'light rum', 'tortillas', 'fresh ginger', 'dried marjoram', 'chive & onion cream cheese', 'oatmeal', 'dried pears', 'fish sauce', 'whole turkey', 'mixed nuts', 'fresh basil leaves', 'butter recipe cake mix', 'fresh black pepper', 'paprika', 'unsweetened pineapple juice', 'vegetable shortening', 'spaghetti noodles', 'pizza dough', 'vegetable juice cocktail', 'cottage cheese', 'maple syrup', 'pumpkin puree', 'ten-grain pancake mix', 'caramel syrup', 'bottom round beef roast', 'cinnamon oil', 'dried cranberries', 'veggie shreds cheese', 'vidalia onion', 'frozen apple juice concentrate', 'teriyaki sauce', 'pork fat', 'baby potatoes', 'bulk sausage', 'white mushroom', 'tuna steaks', 'chicken thighs', 'garlic flakes', 'whole cloves', 'bacon drippings', 'reduced-sodium chicken broth', 'vanilla powder', 'mung bean sprouts', 'mexican crema', 'beef bouillon granules', 'creamed corn', 'fat free sodium free chicken broth', 'italian herb seasoning', 'unsweetened coconut', 'frozen vegetables', 'ginger ale', 'ground beef\\', \"lawry\\'s seasoned salt\", \\'mild cheddar cheese', 'garlic granules', 'bacardi dark rum\\', \"meyer\\'s dark rum', 'egg beaters egg substitute', 'green peppercorn', 'ground mixed spice', 'head of cabbage', 'melon liqueur', 'boneless sirloin steak', 'corn kernels', 'hot chili sauce', 'roasting chickens', 'low calorie catalina salad dressing', 'mccormick thyme leaves', 'fresh cracked pepper', 'reduced fat graham cracker crust', 'brown sugar', 'baileys irish cream', 'raw honey', 'ravioli', 'plum sauce', 'rolled barley', 'fresh edible flowers', 'soymilk', 'red chili pepper flakes', 'knorr vegetable soup mix', 'mild italian sausage', 'graham cracker crumbs', 'pecan nuts', 'soda water', 'garbanzo beans', 'red sweet bell peppers', 'cooked ground beef', 'albacore tuna', 'malibu rum', 'french style green bean', 'chicken bouillon cube', 'chutney', 'tomato ketchup', 'star anise', 'jiffy cornbread mix', 'mixed spice', 'fresh lemon', 'yellow pepper', 'dried leaf basil', 'pecan halves', '2% low-fat milk', 'horseradish cream', 'soy yogurt', 'fat-free cream of mushroom soup', 'salt and black pepper', 'sweet pickle juice', 'chopped tomato', 'nestle toll house baking cocoa', 'ground hazelnuts', 'apple pie filling', 'fresh spinach leaves', 'tequila', 'fresh dill', 'kiwi fruit', 'purple onion', 'absolut vodka', 'miracle whip light', 'sweet red wine', 'club crackers', 'dijon mustard', 'olives', 'glace pineapple', 'pecan pieces', 'chocolate bar', 'pineapple in juice', 'tomatoes with juice', 'fat-free cheddar cheese', 'miniature m&m baking bits', 'olive oil', 'peach pie filling', 'jellied cranberry sauce', 'sliced ripe olives', 'frosting', 'kirsch', 'lean pork chops', 'sweet red pepper', 'orange jell-o', 'maraschino cherries', 'fresh parsley leaves', 'english mustard powder', 'dark beer', 'creme de almond', 'center-cut bacon', 'raisin bran cereal', 'pretzel stick', 'shortbread pie crust', 'dark chocolate chips', 'manicotti', 'tiger shrimp', 'italian dressing', 'cracked black pepper', 'wax beans', 'vanilla-flavored syrup', 'caramel ice cream topping', 'nonfat milk', 'frozen hash brown potatoes', 'soft silken tofu', 'wondra flour', 'thai fish sauce', 'chicken bouillon', 'celery seed', 'white distilled vinegar', 'real maple syrup', 'ground walnuts', 'rotisserie-cooked chicken', 'low sodium soy sauce', 'roast beef', 'parmesan-romano cheese mix', 'dried chipotle peppers', 'iced tea mix powder', 'kiwi fruits', 'condensed cream of mushroom soup', 'mini chocolate chip', 'firm ripe tomatoes', 'blackberries', 'crushed tomatoes', 'pecans', 'roll', 'fresh coriander', 'maggi seasoning', 'pepperoni slices', 'mccormick broiled steak seasoning', 'lemons, juice of', 'sweet paprika', 'tilapia fillet', 'half-and-half', 'white onions', 'diced green chilies', 'bacon grease', 'round steak', 'celery leaves', 'tartaric', 'egg yolk', 'crystal hot sauce', 'fat-free sugar-free instant pistachio pudding mix', 'grainy mustard', 'grape-nuts cereal', 'stone ground mustard', 'dried sweet basil leaves', 'crackers', 'italian-style diced tomatoes', 'gin', 'peanut butter chips', 'frozen spinach', 'sunflower seed butter', 'lettuce leaf', 'fresh jalapeno', 'boneless center cut pork chops', 'dill pickle', 'fresh garlic clove', 'fruit', 'chocolate chip cookie mix', 'hodgson mill multi-grain hot cereal', 'kosher salt', 'canned tomatoes', 'fresh spinach', 'pancetta', 'roasted sweet peppers', 'cream of chicken soup', 'new potato', 'tangerine', 'dehydrated onion', 'fat-free cottage cheese', 'fresh ground black pepper\\', \"lawry\\'s seasoned salt\", \\'garlic powder', 'cocoa powder', 'paper', 'lean ground beef', 'roasted deli chicken', 'red ripe tomatoes', 'popsicle molds', 'season-all salt', 'marjoram leaves', 'instant coffee granules', 'dried basil leaves', 'mixed berries', 'strawberry schnapps', 'fresh asparagus', 'whole grain breakfast cereal', 'splenda sugar substitute', 'au jus mix', 'dried ancho chiles', 'white vinegar', 'mashed banana', 'short-grain brown rice', 'pumpkin pie filling', 'ground veal', 'mustard seeds', 'pure vanilla extract', 'sugar-free applesauce', 'italian salad dressing mix', 'caraway seeds', 'coca-cola', 'vinaigrette', 'light cream', 'poultry drippings', 'chili pepper flakes', 'pink grapefruit', 'bread', 'grand marnier', 'cracker', 'non-fat powdered milk', 'graham cracker', 'club soda', 'graham cracker pie crust', 'lemon juice', 'non-dairy whipped topping', 'frozen pound cake', 'graham cracker crumb crust', 'low-sodium chili sauce', 'ouzo', 'gentian root', 'rib eye steaks', 'butter flavored crackers', 'salt & freshly ground black pepper', 'garlic clove', 'hoisin sauce', 'cornbread mix', 'yellow food coloring', 'reduced-sodium fat-free beef broth', 'curry paste', 'red chile', 'chunky salsa', 'german sweet chocolate', 'pears', 'instant pistachio pudding mix', 'minced garlic cloves', 'leeks', 'celery & tops', 'chives', 'absolut kurant vodka', 'unsweetened pineapple chunks', 'hot chili flakes', 'tomatoes and green chilies', 'bell pepper', 'idaho potatoes', 'veat bites', 'lime, zest of', 'corn husk', 'chopped tomatoes', 'bhutanese red rice', 'sharp cheddar cheese', 'salad dressing', 'oat flour', 'fresh rosemary', 'hot mustard', 'mixed peel', 'dry breadcrumbs', 'dry active yeast', 'refrigerated pie crusts', 'israeli couscous', 'chicken breast', 'smoked swiss cheese', 'cayenne pepper', 'whole grain mustard', 'red pepper flakes', 'blue curacao', 'soy coffee creamer', 'ranch dip', 'oranges', 'grape tomatoes', 'cut green beans', 'honeydew melon', 'whole tomato', 'parsley', 'sweetened condensed milk', 'pan drippings', 'toasted sliced almonds', 'unsweetened baking chocolate', 'ponzu sauce', 'plain nonfat yogurt', 'dole italian salad variety', 'dry onion flakes', 'lemon, juice and zest of', 'cherry pie filling\\', \"devil\\'s food cake mix\", \\'pecans', 'ground meat', 'vanilla sugar', 'mango chutney', 'seasoned bread crumbs', 'kidney beans', 'shredded cheddar cheese', 'mild sausage', 'fenugreek seeds', 'radishes', 'cheese ravioli', 'reduced-fat oreo cookies', 'bulgur', 'cream cheese', '2% cheddar cheese', 'catsup', 'salad oil', 'cloves', 'dried thyme leaves', 'ground mustard', 'cilantro leaf', 'lump crabmeat', 'asiago cheese', 'bean sprouts', 'colby-monterey jack cheese', 'cheesecake flavor instant pudding and pie filling', 'white fish fillets', 'lemon jell-o gelatin', 'butter buds', 'chow mein noodles', 'dry thyme leaves', 'angel food cake', 'powdered sugar', 'strong black coffee', 'french vanilla cake mix', 'gruyere', 'chorizo sausage', 'dry milk', 'spicy mustard', 'diced onion', 'frozen whipped topping', 'dried breadcrumbs', 'candy corn', 'garlic powder\\', \"tony chachere\\'s seasoning\", \\'cooked rice', 'dried oregano', 'cranberry liqueur', 'red chili paste', 'boneless country-style ribs', 'peppercorns', 'oats', 'butter', 'frozen black-eyed peas', 'red wine vinegar', 'ear of corn', 'minced ginger', 'portabella mushrooms', 'goat cheese', 'soda pop', 'red pepper paste', 'butter flavor shortening', 'confectioners\\' sugar\", \\'cocoa', 'unbaked 9-inch pie shell', 'boneless beef roast', 'water chestnut', 'wild mushrooms', 'sponge cakes', 'extra virgin olive oil\\', \"mccormick\\'s montreal brand steak seasoning', 'angel hair pasta', 'dried oregano leaves', 'cucumbers', 'ground beef round', 'shiitake mushroom', 'burgundy wine', 'mexican blend cheese', 'spaghetti squash', 'yukon gold potato', 'bacon grease\\', \"campbell\\'s golden mushroom soup\", \\'soup mix', 'shortcut bacon', 'buckwheat flour', 'broccoli floret', 'vegetarian chicken pieces', 'tofu', 'ham hocks', 'cooking spray', 'pineapple sherbet', 'ground ginger', 'dinner rolls', 'dry-roasted cashews', 'pickling spices', 'matzo meal', 'italian salad dressing', 'tea bag', 'ice cube', 'raspberry liqueur', 'rice chex', 'tapioca flour', 'strawberry gelatin', 'taco seasoning mix', 'green tomatoes', 'stir fry vegetables', 'salt\\', \"eggland\\'s best large egg\", \\'salami', 'buns', 'vanilla\\', \"confectioners\\' sugar', 'frozen orange juice', 'pillsbury refrigerated classic pizza crust', 'fat free mozzarella cheese', 'soft fresh goat cheese', 'canned peach halves', 'adobo sauce', 'chickpea flour', 'sherry wine vinegar', 'amaretto liqueur', 'condensed golden mushroom soup', 'fat-free chicken broth', 'protein powder', 'soy margarine', 'prosciutto', 'digestive biscuits', 'candy sprinkles', 'scallops', 'green tea leaves', 'coriander', 'fat-free sweetened condensed milk', 'celery ribs', 'self-rising flour', 'chicken soup powder', 'cooked noodles', 'instant rice', 'garlic pepper seasoning', 'curry leaves', 'distilled white vinegar', 'rice vinegar', 'cream-style corn', 'ziploc bag', 'refried beans', 'lemon-pepper seasoning', 'asparagus', 'corn chex', 'unsulphured molasses', 'long grain rice', 'cheddar cheese', 'crusty italian bread', 'large raw shrimp', 'starch', 'limes, juice of', 'coconut milk powder', 'lemons, rind of', 'currants', 'albacore tuna in water', 'canned pumpkin', 'oregano flakes', 'fresh italian parsley', 'french style green beans', 'limes', 'graham cracker crust', 'white grape juice', 'cappelletti pasta', 'spiced rum', 'blue hawaiian maui schnapps', 'pepperoni', 'dried basil', 'condensed tomato soup', 'escarole', 'parsley flakes', 'chicken breast halves', 'powdered milk', 'velveeta cheese', 'chocolate whipped cream', 'fat free greek yogurt', 'tomato paste', 'greek yogurt', 'pineapple juice', 'gorgonzola', 'ginger', 'lime slice', 'red bell pepper', 'russet potatoes', 'multi-grain hot cereal', 'creole seasoning', 'split peas', 'french vanilla instant pudding', 'radish sprouts', 'reduced-fat swiss cheese', 'ground fennel', 'nutmeg', 'unsalted butter', 'sweet italian sausage link', 'rotel tomatoes', 'dried tarragon', 'lettuce leaves', 'ketchup', 'swiss chard', 'nori', 'salmon', 'coriander seeds', 'beef stew meat', 'celery', 'wagon wheel macaroni', 'sorghum flour', 'dry lentils', 'lager beer', 'all-purpose flour', 'rose water', 'extra lean ground beef', 'vanilla beans', 'chocolate fudge instant pudding mix', 'balsamic vinegar', 'rice', 'mincemeat', 'dried pinto beans', 'white cheddar cheese', 'turkey sausage', 'sugar syrup', 'cointreau liqueur', 'sweet green pepper', 'table cream', 'celery salt', 'crisco', 'rice wine', 'lemon supreme cake mix', 'saltines', 'worcestershire sauce', 'oregano leaves', 'chicken', 'macaroni', 'quick-cooking barley', 'green beans', 'dates', 'almond milk', 'black tea leaves', 'walnuts', 'spike seasoning', 'garlic clove\\', \"campbell\\'s cream of mushroom soup\", \\'milk', 'potato flakes', 'sweetened flaked coconut', 'spreadable cheese with garlic and herbs', 'prepared graham cracker crusts', 'alum', 'white chicken meat packed in water', 'frozen pineapple concentrate', 'crouton', 'light beer', 'purple onions', 'diced tomatoes with green chilies', 'peach', 'salmon fillets', 'taco shells', 'snow peas', 'kraft macaroni and cheese', 'spices', 'part-skim ricotta cheese', 'roasting chicken', 'sweet corn', 'unsweetened lemonade mix', 'meatloaf mixture', 'refrigerated chocolate chip cookie dough', 'spice essence', 'chilies', 'peas', 'brown gravy mix', 'thousand island dressing', 'milk chocolate chips', 'pear', 'low-fat monterey jack cheese', 'potassium chloride', 'hass avocado', 'baby portabella mushrooms', 'peach slices in heavy syrup', 'beer', 'coarse sea salt', 'whole green chilies', 'seltzer water', 'warm water\\', \"fleischmann\\'s active dry yeast\", \\'dry milk', 'self raising flour', 'ground red chili pepper', 'swiss cheese', 'reduced calorie cream cheese', 'white kidney beans', 'evaporated milk', 'bun', 'chicken liver', 'creme de cassis', 'light cream\\', \"confectioners\\' sugar\", \\'heavy cream', 'italian seasoning', 'ground lean pork', 'lowfat mozzarella cheese', 'light brown sugar', 'candied cherry', 'fat-free refried beans', 'yukon gold potatoes', 'cake crumbs', 'english cucumber', 'jalapeno peppers', 'sparkling water', 'dried chipotle powder', 'cooked sweet potatoes', 'whipping cream', 'tomatillos', 'green grapes', 'turkey base', 'carbonated water', 'fresh tomato', 'fresh linguine', 'plain sweet biscuit crumbs', 'dry enchilada mix', 'yellow potatoes', 'chicken tenders', 'heinz 57 steak sauce', 'mushroom broth', 'mandarin orange', 'fast rise yeast', 'huckleberries', 'lime sherbet', 'hot water', 'vegan mayonnaise', 'natural cane sugar', 'marsala wine', 'green chili peppers', 'white peppercorns', 'low-fat yogurt', 'baking potatoes', 'fresh thyme sprigs', 'peanut oil', 'shoyu', 'red enchilada sauce', 'wheat bread flour', 'fat-free whipped topping', 'vanilla wafers', 'strawberry jell-o gelatin dessert', 'green chili', 'smoked turkey', 'feta', 'rice krispies', 'baby shrimp', 'karo light corn syrup', 'toasted almond', 'beef bouillon concentrate', 'flax seed meal', 'fruit cocktail', 'egg substitute', 'raspberries', 'flax seeds', 'ham soup base', 'fresh parsley', 'crunchy peanut butter', 'frozen broccoli cuts', 'tahini', 'granulated garlic', 'arugula', 'cheddar cheese sauce', 'yellow cake mix', 'watercress', 'peanut butter\\', \"confectioners\\' sugar\", \\'chocolate chips', 'serrano pepper', 'instant coffee', 'chocolate graham cracker', 'sambal oelek', 'warm water', 'chinese five spice powder', 'crushed red pepper flakes', 'agave', 'rum', 'vanilla frosting', 'frozen peaches', 'whole corn', 'walnut oil', 'splenda brown sugar blend\\', \"i can\\'t believe it\\'s not butter spread\", \\'rolled oats', 'pimento stuffed olives', 'orange liqueur', 'sugar-free jello', 'stewing beef', 'plain yogurt', 'whole milk ricotta cheese', 'romano beans', 'russet potato', 'plain breadcrumbs', 'low-fat mexican cheese blend', 'white onion', 'hot paprika', 'rice milk', 'canned whole kernel corn', 'french mustard', 'cooked chicken', 'cooked beets', 'cinnamon stick', 'jell-o chocolate pudding and pie filling', 'green cardamoms', 'plain tomato juice', 'onion salt', 'dill', 'buckwheat groats', 'semisweet baking chocolate square', 'pimento stuffed olive', 'dried italian seasoning', 'fettuccine', 'romaine lettuce hearts', 'egg roll wrap', 'corn muffin mix', 'ciabatta', 'flank steaks', 'yellow onions', 'penne pasta', 'mexican chili powder', 'unbleached white flour', 'chocolate instant pudding', 'herbs', 'lemon cake mix', 'green olives', 'fresh basil', 'mandarin orange segments', 'frozen green pea', 'pork and beans', 'chili seasoning mix', 'lean ham', 'white mushrooms', 'spicy brown mustard', 'orange peel', 'lean ground turkey', 'mozzarella cheese', 'lentils', 'four cheese blend', 'whole wheat hoagie rolls', 'salad greens', 'fresh ground black pepper', 'celery rib', 'breadcrumbs', 'vanilla caramels', 'corkscrew macaroni', 'alfredo sauce', 'pickapeppa sauce', 'coarse salt', 'habanero peppers', 'rennet tablet', 'cayenne', 'mrs. dash seasoning mix', 'chili powder', 'bamboo skewers', 'no yolks egg noodle substitute', 'italian dressing\\', \"hellmann\\'s mayonnaise\", \\'lemon juice', 'marinara sauce', 'instant minced onion', 'mango', 'medium shrimp', 'sherry wine', 'vegetable broth', 'black beans', 'cream cheese\\', \"confectioners\\' sugar\", \\'sour cream', 'canned jalapeno peppers', 'scullcap herb', 'hard-boiled eggs', 'refrigerated crescent dinner rolls', 'rhodes frozen rolls', 'fontina cheese', 'flax seed', 'blueberries in light syrup', 'bottled water', 'plum jam', 'syrup', 'turmeric powder', 'whole wheat elbow macaroni', 'beef', 'southern comfort', 'burnet root', 'baking powder', 'yellow beans', 'italian style breadcrumbs', 'fresh pumpkin', 'dark sesame oil', 'beefsteak tomatoes', 'mostaccioli pasta', 'craisins', 'lemon gelatin', 'chicken leg', 'seasoning', 'mild salsa', 'squash', 'leaf lettuce', 'raspberry spreadable fruit', 'ritz cracker crumbs', 'fish', 'diced tomatoes with basil oregano and garlic', 'refrigerated reduced-fat crescent rolls', 'fresh okra', 'asian chili sauce', 'flour tortillas', 'hardboiled egg', 'long-grain rice', 'new mexico chile powder', 'sausage links', 'mexican oregano', 'bibb lettuce', 'vegetables', 'bean dip', 'fresh corn', 'dried yellow peas', 'madras curry powder', 'cheddar cheese soup', 'seasoned flour', 'condensed cream of mushroom & garlic soup', 'penne rigate', 'chili with beans', 'broiler-fryer chickens', 'black peppercorns', 'salted peanuts\\', \"reese\\'s peanut butter cups\", \\'milk chocolate chips', 'gluten flour', 'ground venison', 'rye bread', 'yam', 'chocolate cookie pie crust', 'lean pork', 'instant yeast', 'tap water', 'beef broth', 'crisco shortening', 'roast', 'sweet gherkins', 'frozen french fries', 'fast-rising active dry yeast', 'pork spareribs', 'frozen chopped spinach', 'lemongrass', 'pine nuts', 'sour mix', 'cayenne powder', 'orzo pasta', 'nacho cheese soup', 'sugar-free syrup\\', \"i can\\'t believe it\\'s not butter spread', 'fiddleheads', 'butter\\', \"confectioners\\' sugar\", \\'all-purpose flour', 'unsifted flour', 'cool whip', 'instant chocolate pudding mix', 'nutmeats', 'ginger-garlic paste', 'tomato sauce', '7-up', 'light butter', 'chocolate milk', 'unseasoned breadcrumbs', 'old bay seasoning', 'tuna', 'hershey chocolate candy bars', 'golden syrup', 'thai sweet chili sauce', 'chipotle chile in adobo', 'hash brown potatoes', 'spinach dip', 'diced tomatoes with jalapenos', 'dry red wine', 'low-fat plain yogurt', 'chicken breast fillets', 'ragu parmesan and romano spaghetti sauce', 'jumbo pasta shells', 'enchilada sauce', 'whole grain wheat flour', 'red cayenne pepper', 'ritz cracker', 'cornflour', 'applesauce', 'bourbon', 'turkey', 'peas and carrots', 'dry onion soup mix', 'stove top stuffing mix monterey style with mushroom and onion', 'monterey jack and cheddar cheese blend', 'lean beef', 'teriyaki marinade', 'baby peas', 'dry lasagna noodles', 'semisweet chocolate', 'shredded coconut', 'smoked sausage', 'annatto oil', 'pineapple in syrup', 'butternut squash', 'purple potatoes', 'peppermint oreos', 'balsamic vinaigrette', 'ghee', 'decorative candies', 'peaches in light syrup', 'splenda granular', 'sweet pepper', 'cider', 'dried ancho chile powder', 'steak spice', 'canola oil', 'low-fat buttermilk', 'reduced-fat feta cheese', 'celery\\', \"hellmann\\'s mayonnaise\", \\'eggs', 'reduced-fat parmesan cheese', 'bisquick baking mix', 'white whole wheat flour', 'corn syrup', 'oven cooking bag', 'ground meat substitute', 'crushed tomatoes in puree', 'pimento pepper', 'oat bran', 'quinoa', 'bulb of garlic', 'medium egg noodles', 'margarita mix', 'low-fat peanut butter', 'pita breads', 'sorghum', 'whole milk', 'unsmoked bacon', 'button mushrooms', 'red potatoes', 'non-fat vanilla frozen yogurt', 'chocolate', 'ground turmeric', 'quick oats', 'semi-sweet chocolate baking squares', 'sugar-free instant chocolate fudge pudding mix', 'frozen lemonade', 'green cabbage', 'absolut citron vodka', 'sodium-free vegetable broth', 'canadian bacon', 'cajun spices', 'orange curacao', 'meat stock', 'seven-grain cereal', 'mexicorn whole kernel corn', 'low-fat milk', 'fresh raspberries', 'sweetened coconut', 'bulgur wheat', 'instant pineapple pudding', 'brown mustard', 'biscuit mix', 'xanthan gum', 'steak sauce', 'yeast', 'bacardi light rum', 'flat leaf parsley', 'cream cheese\\', \"confectioners\\' sugar', 'granny smith apple', 'tomato puree', 'rice pilaf mix', 'chili without beans', 'frozen mixed vegetables', 'raspberry vodka', 'mace', 'ancho chili', 'boneless chicken breast', 'green onion', 'sweet potato', 'fresh oregano', 'veal roast', 'white flour', 'blue cheese dressing', 'all-purpose white flour', 'pitted dates', 'beef bouillon paste', 'desiccated coconut', 'cool whip topping', 'dill pickle relish', 'courgette', 'fresh lime juice', 'neufchatel cheese\\', \"confectioners\\' sugar\", \\'fat-free sugar-free instant vanilla pudding mix', 'cheese tortellini', 'fresh broccoli florets', '15 bean soup mix', 'bouillon cubes', 'prik chi fa daeng', 'pinto beans', 'large shrimp', 'artichoke hearts', 'quaker oats', 'scallion', 'mangoes', 'fat free vegetable soup', 'turkey breast', 'hummus', '2% fat cottage cheese', 'chicken broth', 'vanilla flavoring', 'accent seasoning', 'dill pickles', 'chili', 'fresh peaches', 'lowfat margarine', 'nacho chip', 'frozen leaf spinach', 'chunk tuna', 'frozen shrimp', 'fontina', 'macadamia nuts', 'frozen sliced strawberries', 'red pepper', 'seedless cucumber', 'frozen fish sticks', 'lasagna noodles', 'chicken base', 'small marshmallow', 'milk', 'pimientos', 'kahlua', 'instant lemon pudding mix', 'hot chicken stock', 'dry ranch dressing mix', 'mint', 'unsweetened coconut milk', 'coffee beans', 'strawberry ice cream', 'sugar-free instant chocolate pudding mix', 'sausages', 'beef bouillon', 'thickened cream', 'hamburger buns', 'root beer', 'bulk pork sausage', 'small shrimp', 'corn oil', 'tart apple', 'arborio rice', 'lime', 'prawns', 'italian seasoned breadcrumbs', 'romano cheese', 'salt water', 'chicken bouillon cubes', 'prepared polenta', 'medium cheddar', 'salsa verde', 'low-carb marinara sauce', 'hersheys chocolate syrup', 'golden delicious apples', 'tomatoes', 'pork loin chops', 'small curd cottage cheese', 'low-fat cream cheese', 'onion soup mix', 'frozen coconut', 'kombu seaweed', 'mixed vegetables', 'tomato juice', 'nuts', 'wheat chex', 'rice vermicelli', 'cornmeal', 'fresh chives', 'white grapefruit', 'chopped pimiento', 'clove', 'couscous', 'oregano', 'ground chuck', 'crescent roll dough', 'sugar substitute', 'marinade', 'ground lamb', 'beef roast', 'yellow onion', 'white creme de cacao', 'lemon, juice of', 'lettuce cups', 'fat-free evaporated milk', 'soy flour', 'ice water', 'white chocolate', 'pie crust', 'potato starch', 'honey', 'puffed rice cereal', 'minute brown rice', 'instant coffee crystals', 'serrano peppers', 'beef sirloin steak', 'butterscotch chips', 'frozen broccoli florets', 'plain low-fat yogurt\\', \"confectioners\\' sugar\", \\'fresh lemon juice', 'cake flour', 'chocolate flavor instant pudding and pie filling mix', 'lime juice', 'sweet chili sauce', 'pastry pride', 'whole wheat pastry flour', 'coleslaw dressing', 'challah', 'delmonte ketchup', 'bananas', 'dr. pepper cola', 'capicola', 'habanero pepper cheese', 'mango nectar', 'plain low-fat yogurt', 'oreo cookie pie crusts', 'crab dip', 'pineapple', 'dill weed', 'lamb broth', 'sweet basil', 'catalina dressing', 'boneless skinless chicken breasts', 'artificial sweetener', 'cake mix', 'gruyere cheese', 'american cheese', 'cumin seeds', 'orecchiette', 'steak seasoning', 'french fried onion rings', '8-inch flour tortillas', 'dry tapioca', 'coleslaw', 'whole berry cranberry sauce', 'creme de cacao', 'honey-wheat bread', 'italian cheese blend', 'ground roasted cumin seeds', 'pork butt', 'dried fish flakes', 'betty crocker fudge brownie mix', 'chocolate frosting', 'broccoli stem', 'cookie crumbs', 'cauliflower', 'dry fettuccine', 'imitation bacon bits', 'cornstarch', 'sausage', 'frozen green beans', 'vanilla bean', 'pumpkin pie spice', 'whole wheat bread', 'white crab meat', 'italian spices', 'cherry jell-o', 'dried rosemary leaves', 'carbonated lemon-lime beverage', 'mexicorn', 'sourdough hamburger buns', 'mushroom stock', 'dark creme de cacao', 'corn kernel', 'cauliflower florets', 'cooking wine', 'sugar-free instant vanilla pudding mix', 'fat free tortillas', 'frozen non-dairy topping', 'canned chicken', 'colored miniature marshmallows', 'vegetable bouillon cubes', 'angel food cake mix', 'unsalted peanuts', 'baby back ribs', 'jalapeno', 'baking soda', 'chickpeas', 'shredded wheat cereal', 'sausage patty', 'caramels', 'red sweet pepper', 'white chocolate baking squares', 'preserves', 'hazelnut-flavored coffee', 'red grapes', 'frozen broccoli', 'frozen limeade concentrate', 'semolina', 'little smokies sausages', 'no-salt-added black beans', 'french vanilla ice cream', 'mexican-style stewed tomatoes with jalapeno peppers', '12-inch pizza crust', 'mandarin oranges', 'frozen southern style hash brown potatoes', 'reduced-fat sour cream', 'minced garlic cloves\\', \"mccormick\\'s montreal brand steak seasoning\", \\'paprika', 'gumbo file', 'dry green lentils', 'ground red pepper', 'celery & leaves', 'water\\', \"lawry\\'s seasoned salt\", \\'black pepper', 'pineapple tidbits', 'pepper', 'cracked wheat', 'white pepper', 'candied fruit', 'marshmallow creme', 'herman starter', 'dry mustard', 'campanelle pasta', 'frozen corn', 'parrot bay coconut rum', 'flour', 'plum tomato', 'french vanilla yogurt', 'ham stock', 'turnips', 'fresh orange juice', 'hot pepper sauce', 'kitchen twine', 'goldfish crackers', 'macaroni and cheese mix', 'white rum', 'old fashioned oats', 'tuna in water', 'coco lopez', 'red chili pepper', 'jumbo black olives', 'boneless pork chops', 'frozen puff pastry', 'light spreadable cheese with garlic and herbs', 'irish cream', 'vegetable soup', 'hot cocoa', 'sour cream\\', \"hellmann\\'s mayonnaise\", \\'hidden valley original ranch dressing', 'mixed dried fruit', 'granola cereal', 'angostura bitters', 'fresh corn kernels', 'white sugar', 'mushroom soup', 'frozen chopped broccoli', 'pesto sauce', 'pink peppercorns', 'cumin', 'beau monde spice', 'fresh lemon zest', 'boneless beef brisket', 'water-packed artichoke hearts', 'maggi 2-minute noodles', 'corn flakes', 'seasoned rice vinegar', 'canned unsweetened coconut milk', 'pork & beans', 'mixed fruit', 'phyllo dough', 'coriander seed', 'powdered ginger', 'thai rice noodles', 'canned chicken broth', 'bay leaf powder', 'instant vanilla pudding', 'green chilies', 'heath candy bar', 'apple', 'key lime juice', 'cut wax beans', 'head romaine lettuce', 'tamari soy sauce', 'hot chili pepper', 'orange extract', 'gummy worms', 'reduced-fat cream of mushroom soup', 'granny smith apples', 'sweet italian sausage', 'silken tofu', 'lowfat neufchatel cheese', 'vegetarian sausages', 'rye cocktail bread', 'fresh gingerroot', 'yams', 'gelatin', 'orange-flavored liqueur', 'cream-style cottage cheese', 'soup mix', 'red wine', 'ground marjoram', 'muscat wine', 'italian parsley', 'a.1. original sauce', 'sucanat', 'tuna in vegetable oil', 'papaya', 'laughing cow light swiss cheese', 'skinless chicken pieces', 'cooked egg noodles', 'black cardamom pod', 'strawberry jelly', 'garam masala', 'potatoes', 'cracked ice', 'ground turkey breast', 'boneless skinless chicken thighs', 'mustard powder', 'cooked chicken breasts', 'flaked coconut', 'fat free sour cream', 'red onion', 'bacos bacon bits', 'hot italian sausage', 'orange gelatin', 'english seedless cucumbers', 'lime jell-o gelatin', 'condensed chicken broth', 'muscovado sugar', 'apricot preserves', 'red peppers', 'reduced sodium soy sauce', 'frozen raspberries', 'fresh breadcrumb', 'greens', 'strong coffee', 'fresh thyme', 'pork chops', 'condensed cheddar cheese soup', 'fine sugar', 'low-fat sour cream', 'milk chocolate kisses', 'mexican tomatoes', 'brown breadcrumbs', 'andouille sausage', 'pie filling\\', \"confectioners\\' sugar\", \\'milk', 'fresh tomatoes', 'pizza crust mix', 'nonfat dry milk powder', 'lemonade', 'sesame oil', 'chili sauce', 'minute white rice', 'earth balance margarine', 'yellow wax beans', 'romaine lettuce', 'dried fruit', 'semi-sweet chocolate chips', 'rice wine vinegar', 'yellow bell peppers', 'baking potato', 'ground thyme', 'diced pimentos', 'walnuts\\', \"confectioners\\' sugar\", \\'cream cheese', 'ground pepper', 'tart apples', 'cream of tartar', 'cooked pork', 'onion powder', 'sultana', 'turmeric', 'corn', 'sweet rice', 'graham crackers', 'shallot', 'lemon rind', 'fresh broccoli', 'water chestnuts', 'peach nectar', 'unsweetened chocolate', 'frozen blueberries', 'liquid egg substitute', 'baby lima beans', 'spelt', 'creme fraiche', 'black pepper', 'condensed cream of chicken soup', 'celery seeds', 'grape juice', 'orange zest', 'frozen reduced-fat non-dairy whipped topping', 'sweet onion', 'chili beans', 'nonfat yogurt', 'ground cayenne pepper', 'instant butterscotch pudding mix', 'eye of round roast\\', \"tony chachere\\'s seasoning', 'orange', 'green chili sauce', 'fajita seasoning mix', 'okra', 'frozen baby peas', 'beef ribs', 'low fat cottage cheese', 'onions', 'plain fat-free yogurt', 'catfish nuggets', 'frozen potato wedges', 'broccoli', 'cumin powder', 'fresh jalapeno pepper', 'italian plum tomatoes', 'spice cake mix', 'parmesan cheese', 'jalapeno juice', 'stock', 'scallions', 'chili paste with garlic', 'beef bouillon cube', 'lettuce', 'fresh cilantro', 'virgin olive oil', 'sliced peaches in juice', 'gingerbread cake mix', 'orange, zest of', 'chocolate cake mix', 'reduced-calorie mayonnaise', 'alfalfa sprouts', 'diced tomato', 'dill pickle slices', 'blackstrap molasses', 'filet mignon', 'sprite', 'brewed espresso', 'mashed potatoes', 'edamame', 'zucchini', 'peach gelatin', 'caraway seed', 'almond butter', 'oyster sauce', 'spelt flour', 'condensed cream of celery soup', '15 bean mix', 'no-boil lasagna noodles', 'dark brown sugar\\', \"confectioners\\' sugar', 'cucumber', 'cajun seasoning', 'orange marmalade', 'lime oil', 'avocado', 'frozen green peas', 'cider vinegar', 'grapefruit juice', 'pork shoulder', 'icing sugar', 'tootsie roll', 'boiling potatoes', 'light muscovado sugar', 'red cabbage', 'caramel topping', 'marinated artichokes', 'nestle sweetened condensed milk', 'vanilla instant pudding mix', 'nonstick cooking spray', 'whole chicken', 'cremini mushrooms', 'light corn syrup', 'unsweetened chocolate squares', 'garlic', 'salmon fillet', 'wooden popsicle sticks', 'chorizo sausages', 'parchment paper', 'toasted almonds', 'brownie mix', 'parsnips', '10 bean soup mix', 'mead', 'prego spaghetti sauce', 'garlic cloves', 'horseradish', 'porridge oats', 'taco cheese', 'vegan cream cheese', 'texas toast thick bread', 'beau monde seasoning', 'pie shell', 'cinnamon', 'cheese slice', 'onion', 'coffee'}\n"
          ],
          "name": "stdout"
        }
      ]
    },
    {
      "cell_type": "code",
      "metadata": {
        "colab": {
          "base_uri": "https://localhost:8080/"
        },
        "id": "TH1zBGrlGTh_",
        "outputId": "369b4f10-0fba-479c-80d3-4d033da472fc"
      },
      "source": [
        "tokens=list(tokens_set)\r\n",
        "print(tokens[:5])"
      ],
      "execution_count": 14,
      "outputs": [
        {
          "output_type": "stream",
          "text": [
            "['four-cheese mexican blend cheese', 'grenadine', 'hormel chili without beans', 'honey mustard', 'chocolate fudge frosting']\n"
          ],
          "name": "stdout"
        }
      ]
    },
    {
      "cell_type": "markdown",
      "metadata": {
        "id": "qrK5nCk3oG-8"
      },
      "source": [
        "# Препроцессинг"
      ]
    },
    {
      "cell_type": "code",
      "metadata": {
        "ExecuteTime": {
          "end_time": "2019-11-05T18:21:07.335188Z",
          "start_time": "2019-11-05T18:21:07.320148Z"
        },
        "colab": {
          "base_uri": "https://localhost:8080/"
        },
        "id": "K8L2wnkioG-_",
        "outputId": "a21d5a6a-41e3-4e8e-a427-2133d89e5550"
      },
      "source": [
        "#all unique characters go here\n",
        "#tokens = list(set(''.join(names)))\n",
        "#tokens = list(set(names))\n",
        "num_tokens = len(tokens)\n",
        "print ('num_tokens = ', num_tokens)"
      ],
      "execution_count": 15,
      "outputs": [
        {
          "output_type": "stream",
          "text": [
            "num_tokens =  2726\n"
          ],
          "name": "stdout"
        }
      ]
    },
    {
      "cell_type": "markdown",
      "metadata": {
        "id": "lktdhoCpoG_G"
      },
      "source": [
        "### Символы -> id\n",
        "\n",
        "Создадим словарь < ингридиент > -> < id >"
      ]
    },
    {
      "cell_type": "code",
      "metadata": {
        "ExecuteTime": {
          "end_time": "2019-11-05T18:21:07.674548Z",
          "start_time": "2019-11-05T18:21:07.671129Z"
        },
        "id": "YWRDvV-4oG_H"
      },
      "source": [
        "token_to_id = {token: idx for idx, token in enumerate(tokens)}\r\n",
        "#token_to_id={}\r\n",
        "#cnt=0  #counter\r\n",
        "#for elem in tokens:\r\n",
        "#  token_to_id[elem]=cnt\r\n",
        "#  cnt+=1"
      ],
      "execution_count": 16,
      "outputs": []
    },
    {
      "cell_type": "code",
      "metadata": {
        "ExecuteTime": {
          "end_time": "2019-11-05T18:21:07.838814Z",
          "start_time": "2019-11-05T18:21:07.833611Z"
        },
        "colab": {
          "base_uri": "https://localhost:8080/"
        },
        "id": "fs_7LvZkoG_J",
        "outputId": "52b47b5b-7bfb-42fa-c7ad-d557275f655f"
      },
      "source": [
        "assert len(tokens) == len(token_to_id), \"dictionaries must have same size\"\n",
        "\n",
        "for i in range(num_tokens):\n",
        "    assert token_to_id[tokens[i]] == i, \"token identifier must be it's position in tokens list\"\n",
        "\n",
        "print(\"Seems OK!\")"
      ],
      "execution_count": 17,
      "outputs": [
        {
          "output_type": "stream",
          "text": [
            "Seems OK!\n"
          ],
          "name": "stdout"
        }
      ]
    },
    {
      "cell_type": "code",
      "metadata": {
        "colab": {
          "base_uri": "https://localhost:8080/"
        },
        "id": "zSdX_zWv-chP",
        "outputId": "761b1646-fdc8-459d-8425-4d21bdb70490"
      },
      "source": [
        "token_to_id['START']  #technical token to start with"
      ],
      "execution_count": 18,
      "outputs": [
        {
          "output_type": "execute_result",
          "data": {
            "text/plain": [
              "979"
            ]
          },
          "metadata": {
            "tags": []
          },
          "execution_count": 18
        }
      ]
    },
    {
      "cell_type": "code",
      "metadata": {
        "ExecuteTime": {
          "end_time": "2019-11-05T18:21:07.988093Z",
          "start_time": "2019-11-05T18:21:07.977722Z"
        },
        "id": "9kiGKaQloG_L"
      },
      "source": [
        "def to_matrix(data, token_to_id, max_len=None, dtype='int32', batch_first = True):\n",
        "    \"\"\"Casts a list of names into rnn-digestable matrix\"\"\"\n",
        "    \n",
        "    max_len = max_len or max(map(len, data))\n",
        "    data_ix = np.zeros([len(data), max_len], dtype) + token_to_id['START']\n",
        "\n",
        "    for i in range(len(data)):\n",
        "        line_ix = [token_to_id[c] for c in data[i]]\n",
        "        data_ix[i, :len(line_ix)] = line_ix\n",
        "        \n",
        "    if not batch_first: # convert [batch, time] into [time, batch]\n",
        "        data_ix = np.transpose(data_ix)\n",
        "\n",
        "    return data_ix"
      ],
      "execution_count": 19,
      "outputs": []
    },
    {
      "cell_type": "code",
      "metadata": {
        "ExecuteTime": {
          "end_time": "2019-11-05T18:21:08.136936Z",
          "start_time": "2019-11-05T18:21:08.131609Z"
        },
        "colab": {
          "base_uri": "https://localhost:8080/"
        },
        "id": "19633tv0oG_N",
        "outputId": "ef372254-41dc-4ae8-ee60-8800c4173775"
      },
      "source": [
        "#Example: cast 4 names to matrices, pad with zeros\n",
        "#print('\\n'.join(names[::2000]))\n",
        "#print(to_matrix(names[::2000], token_to_id))\n",
        "#print(good_data_list)\n",
        "print(to_matrix(good_data_list,token_to_id))"
      ],
      "execution_count": 20,
      "outputs": [
        {
          "output_type": "stream",
          "text": [
            "[[ 979  245 2425 ...  979  979  979]\n",
            " [ 979  643 1971 ...  979  979  979]\n",
            " [ 979 1806  353 ...  979  979  979]\n",
            " ...\n",
            " [ 979  878 2585 ...  979  979  979]\n",
            " [ 979  177 1458 ...  979  979  979]\n",
            " [ 979 1319 1621 ...  979  979  979]]\n"
          ],
          "name": "stdout"
        }
      ]
    },
    {
      "cell_type": "markdown",
      "metadata": {
        "id": "4blgxJiVoG_O"
      },
      "source": [
        "# Рекуррентные нейронные сети\n",
        "\n",
        "<img src=\"img/rnn.png\" width=480>"
      ]
    },
    {
      "cell_type": "code",
      "metadata": {
        "ExecuteTime": {
          "end_time": "2019-11-05T18:21:10.739438Z",
          "start_time": "2019-11-05T18:21:09.661222Z"
        },
        "id": "aAWRJR8boG_Q"
      },
      "source": [
        "import torch, torch.nn as nn\n",
        "import torch.nn.functional as F\n",
        "from torch.autograd import Variable"
      ],
      "execution_count": 21,
      "outputs": []
    },
    {
      "cell_type": "code",
      "metadata": {
        "ExecuteTime": {
          "end_time": "2019-11-05T18:21:10.751862Z",
          "start_time": "2019-11-05T18:21:10.741772Z"
        },
        "id": "vrQNTSNroG_U"
      },
      "source": [
        "class CharRNNCell(nn.Module):\n",
        "    \"\"\"\n",
        "    Implement the scheme above as torch module\n",
        "    \"\"\"\n",
        "    def __init__(self, num_tokens=len(tokens), embedding_size=16, rnn_num_units=64):\n",
        "        super(self.__class__,self).__init__()\n",
        "        self.num_units = rnn_num_units\n",
        "        \n",
        "        self.embedding = nn.Embedding(num_tokens, embedding_size)\n",
        "        self.rnn_update = nn.Linear(embedding_size + rnn_num_units, rnn_num_units)\n",
        "        self.rnn_to_logits = nn.Linear(rnn_num_units, num_tokens)\n",
        "        \n",
        "    def forward(self, x, h_prev):\n",
        "        \"\"\"\n",
        "        This method computes h_next(x, h_prev) and log P(x_next | h_next)\n",
        "        We'll call it repeatedly to produce the whole sequence.\n",
        "        \n",
        "        :param x: batch of character ids, variable containing vector of int64\n",
        "        :param h_prev: previous rnn hidden states, variable containing matrix [batch, rnn_num_units] of float32\n",
        "        \"\"\"\n",
        "        # get vector embedding of x\n",
        "        x_emb = self.embedding(x)\n",
        "        \n",
        "        # compute next hidden state using self.rnn_update\n",
        "        x_and_h = torch.cat([x_emb, h_prev], dim=1) #YOUR CODE HERE\n",
        "        h_next = self.rnn_update(x_and_h) #YOUR CODE HERE\n",
        "        \n",
        "        h_next = F.tanh(h_next)\n",
        "        \n",
        "        assert h_next.size() == h_prev.size()\n",
        "        \n",
        "        #compute logits for next character probs\n",
        "        logits = self.rnn_to_logits(h_next)\n",
        "        \n",
        "        return h_next, F.log_softmax(logits, -1)\n",
        "    \n",
        "    def initial_state(self, batch_size):\n",
        "        \"\"\" return rnn state before it processes first input (aka h0) \"\"\"\n",
        "        return Variable(torch.zeros(batch_size, self.num_units))"
      ],
      "execution_count": 22,
      "outputs": []
    },
    {
      "cell_type": "code",
      "metadata": {
        "ExecuteTime": {
          "end_time": "2019-11-05T18:21:11.071002Z",
          "start_time": "2019-11-05T18:21:11.052377Z"
        },
        "id": "viJDINNdoG_X"
      },
      "source": [
        "char_rnn = CharRNNCell()"
      ],
      "execution_count": 23,
      "outputs": []
    },
    {
      "cell_type": "markdown",
      "metadata": {
        "id": "G9apsZSmoG_Z"
      },
      "source": [
        "### Тренировка сети, RNN loop"
      ]
    },
    {
      "cell_type": "code",
      "metadata": {
        "ExecuteTime": {
          "end_time": "2019-11-05T18:21:11.521078Z",
          "start_time": "2019-11-05T18:21:11.510175Z"
        },
        "id": "BJ_1B7vdoG_b"
      },
      "source": [
        "def rnn_loop(rnn, batch_index):\n",
        "    \"\"\"\n",
        "    Computes log P(next_character) for all time-steps in names_ix\n",
        "    :param names_ix: an int32 matrix of shape [batch, time], output of to_matrix(names)\n",
        "    \"\"\"\n",
        "    batch_size, max_length = batch_index.size()\n",
        "    hid_state = rnn.initial_state(batch_size)\n",
        "    logprobs = []\n",
        "\n",
        "    for x_t in batch_index.transpose(0,1):\n",
        "        hid_state, logp_next = rnn(x_t, hid_state)  \n",
        "        logprobs.append(logp_next)\n",
        "        \n",
        "    return torch.stack(logprobs, dim=1)"
      ],
      "execution_count": 24,
      "outputs": []
    },
    {
      "cell_type": "markdown",
      "metadata": {
        "id": "xk4EkpGfoG_d"
      },
      "source": [
        "### Тренировка сети"
      ]
    },
    {
      "cell_type": "code",
      "metadata": {
        "ExecuteTime": {
          "end_time": "2019-11-05T18:21:12.120106Z",
          "start_time": "2019-11-05T18:21:12.109585Z"
        },
        "id": "Vfq6l52noG_e"
      },
      "source": [
        "from IPython.display import clear_output\n",
        "from random import sample\n",
        "\n",
        "char_rnn = CharRNNCell()\n",
        "opt = torch.optim.Adam(char_rnn.parameters())\n",
        "history = []"
      ],
      "execution_count": 25,
      "outputs": []
    },
    {
      "cell_type": "code",
      "metadata": {
        "ExecuteTime": {
          "end_time": "2019-11-05T18:21:23.521061Z",
          "start_time": "2019-11-05T18:21:12.302892Z"
        },
        "colab": {
          "base_uri": "https://localhost:8080/",
          "height": 267
        },
        "id": "TVi1gQamoG_f",
        "outputId": "67cf22e8-f977-49aa-e225-37e0ecaa66bf"
      },
      "source": [
        "names=good_data_list\n",
        "MAX_LENGTH = max(map(len, names))\n",
        "for i in range(1000):\n",
        "    batch_ix = to_matrix(sample(names, 32), token_to_id, max_len=MAX_LENGTH)\n",
        "    batch_ix = torch.tensor(batch_ix, dtype=torch.int64)\n",
        "    \n",
        "    logp_seq = rnn_loop(char_rnn, batch_ix)\n",
        "    \n",
        "    # compute loss\n",
        "    predictions_logp = logp_seq[:, :-1]\n",
        "    actual_next_tokens = batch_ix[:, 1:]\n",
        "\n",
        "    loss = -torch.mean(torch.gather(predictions_logp, dim=2, index=actual_next_tokens[:,:,None]))###YOUR CODE\n",
        "    \n",
        "    # train with backprop\n",
        "    loss.backward()\n",
        "    opt.step()\n",
        "    opt.zero_grad()\n",
        "    \n",
        "    # visualizing training process\n",
        "    history.append(loss.data.numpy())\n",
        "    if (i + 1) % 100 == 0:\n",
        "        clear_output(True)\n",
        "        plt.plot(history,label='loss')\n",
        "        plt.legend()\n",
        "        plt.show()\n",
        "\n",
        "assert np.mean(history[:10]) > np.mean(history[-10:]), \"RNN didn't converge.\""
      ],
      "execution_count": 26,
      "outputs": [
        {
          "output_type": "display_data",
          "data": {
            "image/png": "[encoded data removed]",
            "text/plain": [
              "<Figure size 432x288 with 1 Axes>"
            ]
          },
          "metadata": {
            "tags": [],
            "needs_background": "light"
          }
        }
      ]
    },
    {
      "cell_type": "markdown",
      "metadata": {
        "id": "L6m-E4AzoG_i"
      },
      "source": [
        "### RNN: генерация рецептов"
      ]
    },
    {
      "cell_type": "code",
      "metadata": {
        "ExecuteTime": {
          "end_time": "2019-11-05T18:21:23.540765Z",
          "start_time": "2019-11-05T18:21:23.524503Z"
        },
        "id": "mS6lEHkcoG_l"
      },
      "source": [
        "def generate_sample(char_rnn, seed_phrase=['START'], max_length=MAX_LENGTH, temperature=1.0):\n",
        "    '''\n",
        "    The function generates text given a phrase of length at least SEQ_LENGTH.\n",
        "    :param seed_phrase: prefix characters. The RNN is asked to continue the phrase\n",
        "    :param max_length: maximum output length, including seed_phrase\n",
        "    :param temperature: coefficient for sampling.  higher temperature produces more chaotic outputs,\n",
        "                        smaller temperature converges to the single most likely output\n",
        "    '''\n",
        "    \n",
        "    x_sequence = [token_to_id[token] for token in seed_phrase]\n",
        "    x_sequence = torch.tensor([x_sequence], dtype=torch.int64)\n",
        "    hid_state = char_rnn.initial_state(batch_size=1)\n",
        "    \n",
        "    #feed the seed phrase, if any\n",
        "    for i in range(len(seed_phrase) - 1):\n",
        "        hid_state, _ = char_rnn(x_sequence[:, i], hid_state)\n",
        "    \n",
        "    #start generating\n",
        "    for _ in range(max_length - len(seed_phrase)):\n",
        "        hid_state, logp_next = char_rnn(x_sequence[:, -1], hid_state)\n",
        "        p_next = F.softmax(logp_next / temperature, dim=-1).data.numpy()[0]\n",
        "        \n",
        "        # sample next token and push it back into x_sequence\n",
        "        next_ix = np.random.choice(len(tokens), p=p_next)\n",
        "        next_ix = torch.tensor([[next_ix]], dtype=torch.int64)\n",
        "        x_sequence = torch.cat([x_sequence, next_ix], dim=1)\n",
        "        \n",
        "    return '*'.join([tokens[ix] for ix in x_sequence.data.numpy()[0]])"
      ],
      "execution_count": 27,
      "outputs": []
    },
    {
      "cell_type": "code",
      "metadata": {
        "ExecuteTime": {
          "end_time": "2019-11-05T18:21:23.625562Z",
          "start_time": "2019-11-05T18:21:23.544968Z"
        },
        "colab": {
          "base_uri": "https://localhost:8080/"
        },
        "id": "W3BSrAsUoG_q",
        "outputId": "77ca7493-07e0-4b9e-d9b9-0d3a57fbf3fd"
      },
      "source": [
        "for _ in range(10):\n",
        "    print(generate_sample(char_rnn))"
      ],
      "execution_count": 28,
      "outputs": [
        {
          "output_type": "stream",
          "text": [
            "START*romaine lettuce*cooked noodles*bulk sausage*prepared mustard*butterscotch chips*START*START*START*START*START*START*START*START*START*START*START*START*START*START*START*START*START*START*START*START*START*fat free sour cream*START\n",
            "START*refried black beans*onion*snap peas*vegetable oil*cool whip*salt*salted peanuts*pecan pieces*ketchup*reduced-fat feta cheese*START*START*START*START*START*START*START*START*START*START*START*START*START*START*START*START*START*START\n",
            "START*egg*carrots*dried dill*carrot*italian seasoning*sugar*sesame seeds*garlic cloves*allspice*water*vegetable oil*START*START*START*START*START*mozzarella cheese*START*START*START*START*START*START*START*START*START*START*START\n",
            "START*garlic*lemon juice*green peas*fresh ginger*ground turkey breast*chili pepper flakes*cinnamon*walnuts*celery*lemon juice*carrots*water*dry mustard*roma tomatoes*italian spices*all-purpose flour*START*START*START*START*START*START*START*START*START*START*START*START\n",
            "START*rolled oats*garlic cloves*diced tomatoes with jalapenos*salt*honey*yellow squash*black pepper*START*START*START*START*START*START*START*START*START*START*START*START*START*START*START*START*START*START*START*START*START\n",
            "START*star anise*honey*baking powder*celery*skim milk*vanilla*skim milk*tomatoes*half-and-half*salami*mustard*salt*pepper*START*START*START*START*START*START*START*START*START*START*START*START*START*START*START\n",
            "START*chocolate sandwich style cookies*rolled barley*salt and pepper*hot paprika*soy sauce*START*START*START*START*START*START*START*START*START*START*START*START*START*START*START*START*START*START*START*START*START*START*START\n",
            "START*whole wheat flour*sambal oelek*cayenne pepper*garlic powder*salt & pepper*START*START*START*START*START*START*START*START*START*START*START*START*START*START*START*START*START*START*START*START*START*buttermilk*START\n",
            "START*baking potato*reduced sodium soy sauce*shredded cheddar cheese*START*START*START*START*START*START*START*START*START*START*START*START*START*START*START*START*START*START*START*START*START*START*START*START*START\n",
            "START*rye bread*large raw shrimp*black pepper*START*START*START*START*START*START*START*START*START*START*START*START*START*START*START*START*START*START*START*START*START*START*START*START*START\n"
          ],
          "name": "stdout"
        },
        {
          "output_type": "stream",
          "text": [
            "/usr/local/lib/python3.6/dist-packages/torch/nn/functional.py:1628: UserWarning: nn.functional.tanh is deprecated. Use torch.tanh instead.\n",
            "  warnings.warn(\"nn.functional.tanh is deprecated. Use torch.tanh instead.\")\n"
          ],
          "name": "stderr"
        }
      ]
    },
    {
      "cell_type": "code",
      "metadata": {
        "ExecuteTime": {
          "end_time": "2019-11-05T18:21:23.702249Z",
          "start_time": "2019-11-05T18:21:23.629226Z"
        },
        "colab": {
          "base_uri": "https://localhost:8080/"
        },
        "id": "Pj9DPzMloG_u",
        "outputId": "d923acbc-dfd2-4d91-a99a-7e6a8ec9e829"
      },
      "source": [
        "for _ in range(10):\n",
        "    print(generate_sample(char_rnn, seed_phrase=['START','milk']))"
      ],
      "execution_count": 29,
      "outputs": [
        {
          "output_type": "stream",
          "text": [
            "START*milk*egg*garlic cloves*START*butter*white vinegar*raisins*gouda cheese*salt and pepper*START*START*START*START*START*START*START*START*START*START*START*START*START*START*START*START*START*START*START\n",
            "START*milk*white chicken meat*monterey jack pepper cheese*green bell pepper*diced green chilies*apple*chicken broth*mayonnaise*bibb lettuce*brown sugar*pecans*START*START*START*START*START*START*START*START*START*START*START*START*START*START*START*START*START\n",
            "START*milk*baking soda*ketchup*vanilla*onion*green onion*raisins*nutmeg*stewed tomatoes*START*START*START*START*START*START*START*START*START*START*START*START*START*START*START*START*START*START*START\n",
            "START*milk*unsalted butter*coca-cola*cinnamon*START*bay leaf*START*START*START*START*START*START*START*START*START*START*START*START*START*START*START*START*START*START*START*START*START*START\n",
            "START*milk*splenda granular*light brown sugar*chicken breasts*dates*sugar*salt*fresh coarse ground black pepper*hard-boiled eggs*brown sugar*cheddar cheese*START*START*START*START*START*START*START*START*START*START*START*START*START*START*START*START*START\n",
            "START*milk*all-purpose flour*black pepper*egg yolks*START*START*START*START*START*START*START*START*START*START*START*START*START*START*START*START*START*START*START*START*START*START*START*START\n",
            "START*milk*bulk sausage*garlic*salt*shortening*green onions*brown sugar*START*START*START*START*START*START*START*START*START*START*START*START*START*START*START*START*START*START*START*START*START\n",
            "START*milk*tuna*ground sirloin*salt*blueberries*water*START*START*START*START*START*START*START*START*START*START*START*START*START*START*START*START*START*START*START*START*START*START\n",
            "START*milk*cracked black pepper*dry white wine*carrot*dry fettuccine*dark red kidney beans*START*START*START*START*START*START*START*START*START*START*START*START*START*START*START*START*START*START*START*START*START*START\n",
            "START*milk*chive & onion cream cheese*honey roasted peanuts*brown sugar*celery seed*salt*brown sugar*salt*beef stock*sharp cheddar cheese*instant chocolate pudding mix*rolled oats*corn kernels*vanilla frosting*START*START*START*START*START*START*START*START*START*START*START*START*START*START\n"
          ],
          "name": "stdout"
        },
        {
          "output_type": "stream",
          "text": [
            "/usr/local/lib/python3.6/dist-packages/torch/nn/functional.py:1628: UserWarning: nn.functional.tanh is deprecated. Use torch.tanh instead.\n",
            "  warnings.warn(\"nn.functional.tanh is deprecated. Use torch.tanh instead.\")\n"
          ],
          "name": "stderr"
        }
      ]
    },
    {
      "cell_type": "code",
      "metadata": {
        "id": "9BG4wcm1oHAT"
      },
      "source": [
        "# save the model to disk\r\n",
        "filename1 = 'finalized_char_rnn.pickle'\r\n",
        "pickle.dump(char_rnn, open(filename1, 'wb'))"
      ],
      "execution_count": 31,
      "outputs": []
    },
    {
      "cell_type": "code",
      "metadata": {
        "id": "0Canf-Nh31Nc",
        "outputId": "4445799a-d10a-47e9-ee37-9bb13615e9e3",
        "colab": {
          "base_uri": "https://localhost:8080/"
        }
      },
      "source": [
        "!ls"
      ],
      "execution_count": 32,
      "outputs": [
        {
          "output_type": "stream",
          "text": [
            "finalized_char_rnn.pickle  gdrive  sample_data\n"
          ],
          "name": "stdout"
        }
      ]
    },
    {
      "cell_type": "code",
      "metadata": {
        "id": "Kzpw4Fzu3Imq"
      },
      "source": [
        "# save the model to disk\r\n",
        "filename3 = 'finalized_token_to_id.pickle'\r\n",
        "pickle.dump(token_to_id, open(filename3, 'wb'))"
      ],
      "execution_count": 37,
      "outputs": []
    },
    {
      "cell_type": "code",
      "metadata": {
        "id": "pT8tIge74NvD",
        "outputId": "fd7d0121-ba48-4056-bcd3-2eeaafdcce4c",
        "colab": {
          "base_uri": "https://localhost:8080/"
        }
      },
      "source": [
        "!ls"
      ],
      "execution_count": 38,
      "outputs": [
        {
          "output_type": "stream",
          "text": [
            "finalized_char_rnn.pickle\t  finalized_token_to_id.pickle\tsample_data\n",
            "finalized_generate_sample.pickle  gdrive\n"
          ],
          "name": "stdout"
        }
      ]
    },
    {
      "cell_type": "code",
      "metadata": {
        "id": "zk8Lo0W03I_6",
        "outputId": "c48c1007-183e-4d8a-b168-21fd701794b9",
        "colab": {
          "base_uri": "https://localhost:8080/",
          "height": 17
        }
      },
      "source": [
        "from google.colab import files\r\n",
        "\r\n",
        "files.download('finalized_char_rnn.pickle')"
      ],
      "execution_count": 35,
      "outputs": [
        {
          "output_type": "display_data",
          "data": {
            "application/javascript": [
              "\n",
              "    async function download(id, filename, size) {\n",
              "      if (!google.colab.kernel.accessAllowed) {\n",
              "        return;\n",
              "      }\n",
              "      const div = document.createElement('div');\n",
              "      const label = document.createElement('label');\n",
              "      label.textContent = `Downloading \"${filename}\": `;\n",
              "      div.appendChild(label);\n",
              "      const progress = document.createElement('progress');\n",
              "      progress.max = size;\n",
              "      div.appendChild(progress);\n",
              "      document.body.appendChild(div);\n",
              "\n",
              "      const buffers = [];\n",
              "      let downloaded = 0;\n",
              "\n",
              "      const channel = await google.colab.kernel.comms.open(id);\n",
              "      // Send a message to notify the kernel that we're ready.\n",
              "      channel.send({})\n",
              "\n",
              "      for await (const message of channel.messages) {\n",
              "        // Send a message to notify the kernel that we're ready.\n",
              "        channel.send({})\n",
              "        if (message.buffers) {\n",
              "          for (const buffer of message.buffers) {\n",
              "            buffers.push(buffer);\n",
              "            downloaded += buffer.byteLength;\n",
              "            progress.value = downloaded;\n",
              "          }\n",
              "        }\n",
              "      }\n",
              "      const blob = new Blob(buffers, {type: 'application/binary'});\n",
              "      const a = document.createElement('a');\n",
              "      a.href = window.URL.createObjectURL(blob);\n",
              "      a.download = filename;\n",
              "      div.appendChild(a);\n",
              "      a.click();\n",
              "      div.remove();\n",
              "    }\n",
              "  "
            ],
            "text/plain": [
              "<IPython.core.display.Javascript object>"
            ]
          },
          "metadata": {
            "tags": []
          }
        },
        {
          "output_type": "display_data",
          "data": {
            "application/javascript": [
              "download(\"download_2358aa65-6f4a-4303-9152-2de482d0cf6f\", \"finalized_char_rnn.pickle\", 906579)"
            ],
            "text/plain": [
              "<IPython.core.display.Javascript object>"
            ]
          },
          "metadata": {
            "tags": []
          }
        }
      ]
    },
    {
      "cell_type": "code",
      "metadata": {
        "id": "dYWq11mo4l1T",
        "outputId": "cd02fc6b-b104-4170-df3f-628f84d48fba",
        "colab": {
          "base_uri": "https://localhost:8080/",
          "height": 17
        }
      },
      "source": [
        "from google.colab import files\r\n",
        "\r\n",
        "files.download('finalized_token_to_id.pickle')"
      ],
      "execution_count": 39,
      "outputs": [
        {
          "output_type": "display_data",
          "data": {
            "application/javascript": [
              "\n",
              "    async function download(id, filename, size) {\n",
              "      if (!google.colab.kernel.accessAllowed) {\n",
              "        return;\n",
              "      }\n",
              "      const div = document.createElement('div');\n",
              "      const label = document.createElement('label');\n",
              "      label.textContent = `Downloading \"${filename}\": `;\n",
              "      div.appendChild(label);\n",
              "      const progress = document.createElement('progress');\n",
              "      progress.max = size;\n",
              "      div.appendChild(progress);\n",
              "      document.body.appendChild(div);\n",
              "\n",
              "      const buffers = [];\n",
              "      let downloaded = 0;\n",
              "\n",
              "      const channel = await google.colab.kernel.comms.open(id);\n",
              "      // Send a message to notify the kernel that we're ready.\n",
              "      channel.send({})\n",
              "\n",
              "      for await (const message of channel.messages) {\n",
              "        // Send a message to notify the kernel that we're ready.\n",
              "        channel.send({})\n",
              "        if (message.buffers) {\n",
              "          for (const buffer of message.buffers) {\n",
              "            buffers.push(buffer);\n",
              "            downloaded += buffer.byteLength;\n",
              "            progress.value = downloaded;\n",
              "          }\n",
              "        }\n",
              "      }\n",
              "      const blob = new Blob(buffers, {type: 'application/binary'});\n",
              "      const a = document.createElement('a');\n",
              "      a.href = window.URL.createObjectURL(blob);\n",
              "      a.download = filename;\n",
              "      div.appendChild(a);\n",
              "      a.click();\n",
              "      div.remove();\n",
              "    }\n",
              "  "
            ],
            "text/plain": [
              "<IPython.core.display.Javascript object>"
            ]
          },
          "metadata": {
            "tags": []
          }
        },
        {
          "output_type": "display_data",
          "data": {
            "application/javascript": [
              "download(\"download_cfdb883d-92c8-4ec7-9b04-9324862c1ca9\", \"finalized_token_to_id.pickle\", 79209)"
            ],
            "text/plain": [
              "<IPython.core.display.Javascript object>"
            ]
          },
          "metadata": {
            "tags": []
          }
        }
      ]
    },
    {
      "cell_type": "code",
      "metadata": {
        "id": "gmiZXDyeAkhH"
      },
      "source": [
        ""
      ],
      "execution_count": null,
      "outputs": []
    }
  ]
}